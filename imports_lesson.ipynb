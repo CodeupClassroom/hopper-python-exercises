{
 "cells": [
  {
   "cell_type": "markdown",
   "id": "9b4c379d",
   "metadata": {},
   "source": [
    "# Imports Lesson\n",
    "\n",
    "We **import** libraries or modules into our current python session in order to use the functions, methods, or variables within it. We can also directly import specific functions, methods or variables, as opposed to the entire module."
   ]
  },
  {
   "cell_type": "markdown",
   "id": "220a116a",
   "metadata": {},
   "source": [
    "## Goals\n",
    "\n",
    "Following this lesson you should be able to:\n",
    "\n",
    "1. Understand the differences between Modules, Libraries & Packages.\n",
    "1. Install a new package, taking adequate safety measures.\n",
    "1. Import a base python or pypi module, with and without an alias, and run a function that exists in that module.\n",
    "1. Import a module you created, and run a function that exists in that module.\n",
    "1. Import a function from a module, with and without an alias, and run that function."
   ]
  },
  {
   "cell_type": "markdown",
   "id": "392bedd1",
   "metadata": {},
   "source": [
    "## Terminology\n",
    "\n",
    "Before going into imports, let's discuss some terminology:\n",
    "\n",
    "- A **Module** is an python file with a `.py` extension.\n",
    "\n",
    "    Modules contain functions and variables. A module can exist in:\n",
    "\n",
    "    - The python standard library\n",
    "    - Community developed packages\n",
    "    - Your working directory as a file that you have created. For example, [this capstone project from the Darden cohort](https://github.com/SpotiScryers/SpotiScry) has modules named `acquire`, `prepare`, `explore`, `preprocessing`, and `model` that are imported into their jupyter notebook.\n",
    "\n",
    "\n",
    "- A **Package** is a directory that contains modules.\n",
    "\n",
    "     - It can also consist of other packages, or 'sub-packages'. Packages are a way to distribute one or more modules. We install packages in order to be able to import modules or libraries for use.\n",
    "    \n",
    "\n",
    "- A Library is a collection of code, data, documentation, and configuration, usually purpose built for specific tasks.\n",
    "\n",
    "    - Libraries can be very large in scope like [numpy](numpy.org), a library the forms the base for most other scientific packages in python, or [matplotlib](matplotlib.org), the library we'll use for data visualization. Other libraries are smaller in scope, like [requests](https://docs.python-requests.org/en/master/), a library for sending HTTP requests.\n",
    "\n",
    "\n",
    "- The **Python Package Index**, PyPI, https://pypi.org/, is a repository of community developed Python packages.\n",
    "\n",
    "\n",
    "- Anaconda's **Conda** product is a package manager. It helps you find and install 3rd party packages."
   ]
  },
  {
   "cell_type": "markdown",
   "id": "49aac2fe",
   "metadata": {},
   "source": [
    "## Import Sources\n",
    "\n",
    "There are 3 main sources from imports:\n",
    "\n",
    "1. The [Python standard library](https://docs.python.org/3/library/)\n",
    "\n",
    "- This comes with the Python language, and no special installation is needed in order to use it.\n",
    "\n",
    "2. 3rd party packages\n",
    "\n",
    "- 3rd party packages are typically installed with a package manger, usually either `conda` or `pip`.\n",
    "\n",
    "    - `pip` is the package manager that comes with the python language. You can use `pip install` to install packages from the Python Package Index.\n",
    "\n",
    "    - `conda` is an alternative package management tool used by anaconda. You can use `conda install` to install packages published on through anaconda.\n",
    "\n",
    "    - `conda` is generally preferred as it ensures that the versions of all installed libraries are compatible with each other, and the packages it makes available are all vetted by anaconda. While very rare, packages on pypi can by contain malicious code, as anyone can publish a package.\n",
    "\n",
    "    - In general, you should research the libraries you are considering using before installing them. Visiting the project's github page, looking over the documentation, and seeing how active the community is are all good ideas.\n",
    "\n",
    "3. Our own code\n",
    "\n",
    "- We can break our code into separate files and use imports to use code from one file in another python file, or in a jupyter notebook. For this course, we will store imported modules in the same directory as the file that is importing them."
   ]
  },
  {
   "cell_type": "markdown",
   "id": "ef3611a7",
   "metadata": {},
   "source": [
    "## Installing Packages\n",
    "\n",
    "We can only import the libraries and modules of packages that have been installed. In other words, in order to import a library or a module we have to install a package that contains it. Because we installed python with anaconda, we already have many 3rd party packages commonly used in data science work installed.\n",
    "\n",
    "To install additional packages, we run commands in the shell in our terminal application (**not** within a python session). For example:\n",
    "\n",
    "> `conda install somepackage`\n",
    "\n",
    "or \n",
    "\n",
    "> `pip install somepackage`"
   ]
  },
  {
   "cell_type": "markdown",
   "id": "ce812dcb",
   "metadata": {},
   "source": [
    "## Importing\n",
    "\n",
    "We can either import an entire module (or library) or just pieces of it, such as a specific function or variable. We can give **aliases** to anything we import.\n",
    "\n",
    "To import an entire module:\n",
    "\n",
    "> `import somemodule`\n",
    "   \n",
    "Later:\n",
    "\n",
    "> `somemodule.somefunction()`"
   ]
  },
  {
   "cell_type": "code",
   "execution_count": 1,
   "id": "c082c38e",
   "metadata": {},
   "outputs": [],
   "source": [
    "import math"
   ]
  },
  {
   "cell_type": "code",
   "execution_count": 2,
   "id": "27b554d2",
   "metadata": {},
   "outputs": [
    {
     "ename": "NameError",
     "evalue": "name 'sqrt' is not defined",
     "output_type": "error",
     "traceback": [
      "\u001b[0;31m---------------------------------------------------------------------------\u001b[0m",
      "\u001b[0;31mNameError\u001b[0m                                 Traceback (most recent call last)",
      "\u001b[0;32m<ipython-input-2-f0d89c8e6134>\u001b[0m in \u001b[0;36m<module>\u001b[0;34m\u001b[0m\n\u001b[1;32m      1\u001b[0m \u001b[0;31m# sqrt() is a function in the math module, but we cannot use it without a prefix\u001b[0m\u001b[0;34m\u001b[0m\u001b[0;34m\u001b[0m\u001b[0;34m\u001b[0m\u001b[0m\n\u001b[0;32m----> 2\u001b[0;31m \u001b[0my\u001b[0m \u001b[0;34m=\u001b[0m \u001b[0msqrt\u001b[0m\u001b[0;34m(\u001b[0m\u001b[0;36m10\u001b[0m\u001b[0;34m)\u001b[0m\u001b[0;34m\u001b[0m\u001b[0;34m\u001b[0m\u001b[0m\n\u001b[0m",
      "\u001b[0;31mNameError\u001b[0m: name 'sqrt' is not defined"
     ]
    }
   ],
   "source": [
    "# sqrt() is a function in the math module, but we cannot use it without a prefix\n",
    "y = sqrt(10)"
   ]
  },
  {
   "cell_type": "code",
   "execution_count": 3,
   "id": "c2eebcb2",
   "metadata": {},
   "outputs": [
    {
     "name": "stdout",
     "output_type": "stream",
     "text": [
      "3.1622776601683795\n"
     ]
    }
   ],
   "source": [
    "'''To reference variables or functions within the module \n",
    "   we prefix the variable or function name with the name of the module \n",
    "   and a period.'''\n",
    "x = math.sqrt(10)\n",
    "print(x)"
   ]
  },
  {
   "cell_type": "markdown",
   "id": "e9c741c7",
   "metadata": {},
   "source": [
    "***\n",
    "To import a module with an **alias**:\n",
    "\n",
    "> `import somemodule as sm`\n",
    "\n",
    "Later:\n",
    "\n",
    "> `sm.somefunction()`"
   ]
  },
  {
   "cell_type": "code",
   "execution_count": 4,
   "id": "a25cc623",
   "metadata": {},
   "outputs": [],
   "source": [
    "# This is being imported under the alias np\n",
    "import numpy as np"
   ]
  },
  {
   "cell_type": "code",
   "execution_count": 5,
   "id": "28be45f7",
   "metadata": {},
   "outputs": [
    {
     "data": {
      "text/plain": [
       "array([3, 3, 3, 3, 3])"
      ]
     },
     "execution_count": 5,
     "metadata": {},
     "output_type": "execute_result"
    }
   ],
   "source": [
    "'''Usually aliases are used to shorten longer module names, \n",
    "   and to reference variables and functions within the module \n",
    "   we prefix them with the alias and a period.'''\n",
    "x = np.repeat(3, 5)\n",
    "x"
   ]
  },
  {
   "cell_type": "code",
   "execution_count": 6,
   "id": "995b78c2",
   "metadata": {},
   "outputs": [
    {
     "ename": "NameError",
     "evalue": "name 'numpy' is not defined",
     "output_type": "error",
     "traceback": [
      "\u001b[0;31m---------------------------------------------------------------------------\u001b[0m",
      "\u001b[0;31mNameError\u001b[0m                                 Traceback (most recent call last)",
      "\u001b[0;32m<ipython-input-6-f02eca25bfb6>\u001b[0m in \u001b[0;36m<module>\u001b[0;34m\u001b[0m\n\u001b[1;32m      1\u001b[0m \u001b[0;31m# If we try to use the full name of the module when we imported it under an alias, it will not work\u001b[0m\u001b[0;34m\u001b[0m\u001b[0;34m\u001b[0m\u001b[0;34m\u001b[0m\u001b[0m\n\u001b[0;32m----> 2\u001b[0;31m \u001b[0mz\u001b[0m \u001b[0;34m=\u001b[0m \u001b[0mnumpy\u001b[0m\u001b[0;34m.\u001b[0m\u001b[0mrepeat\u001b[0m\u001b[0;34m(\u001b[0m\u001b[0;36m3\u001b[0m\u001b[0;34m,\u001b[0m \u001b[0;36m5\u001b[0m\u001b[0;34m)\u001b[0m\u001b[0;34m\u001b[0m\u001b[0;34m\u001b[0m\u001b[0m\n\u001b[0m\u001b[1;32m      3\u001b[0m \u001b[0mz\u001b[0m\u001b[0;34m\u001b[0m\u001b[0;34m\u001b[0m\u001b[0m\n",
      "\u001b[0;31mNameError\u001b[0m: name 'numpy' is not defined"
     ]
    }
   ],
   "source": [
    "# If we try to use the full name of the module when we imported it under an alias, it will not work\n",
    "z = numpy.repeat(3, 5)\n",
    "z"
   ]
  },
  {
   "cell_type": "code",
   "execution_count": 7,
   "id": "fd9d43ad",
   "metadata": {},
   "outputs": [],
   "source": [
    "# If we import it again without the alias, then both versions will work\n",
    "import numpy"
   ]
  },
  {
   "cell_type": "code",
   "execution_count": 8,
   "id": "62a3ec48",
   "metadata": {},
   "outputs": [
    {
     "data": {
      "text/plain": [
       "array([3, 3, 3, 3, 3])"
      ]
     },
     "execution_count": 8,
     "metadata": {},
     "output_type": "execute_result"
    }
   ],
   "source": [
    "z = numpy.repeat(3, 5)\n",
    "z"
   ]
  },
  {
   "cell_type": "code",
   "execution_count": 9,
   "id": "9e0a801f",
   "metadata": {},
   "outputs": [
    {
     "data": {
      "text/plain": [
       "array([3, 3, 3, 3, 3])"
      ]
     },
     "execution_count": 9,
     "metadata": {},
     "output_type": "execute_result"
    }
   ],
   "source": [
    "x2 = np.repeat(3, 5)\n",
    "x2"
   ]
  },
  {
   "cell_type": "markdown",
   "id": "0fd3be1a",
   "metadata": {},
   "source": [
    "***"
   ]
  },
  {
   "cell_type": "markdown",
   "id": "c06561af",
   "metadata": {},
   "source": [
    "To import **specific parts** of a module:\n",
    "\n",
    "> `from somemodule import somefunction`\n",
    "\n",
    "or\n",
    "\n",
    "> `from somemodule import anotherfunction, yetanotherfunction`\n",
    "\n",
    "Later:\n",
    "\n",
    "> `somefunction()`\n",
    "\n",
    "> `anotherfunction()`\n",
    "\n",
    "> `yetanotherfunction()`"
   ]
  },
  {
   "cell_type": "code",
   "execution_count": 10,
   "id": "505e4d9f",
   "metadata": {},
   "outputs": [],
   "source": [
    "from itertools import accumulate"
   ]
  },
  {
   "cell_type": "code",
   "execution_count": 11,
   "id": "7914b9d1",
   "metadata": {},
   "outputs": [
    {
     "data": {
      "text/plain": [
       "<itertools.accumulate at 0x7f9fa132e080>"
      ]
     },
     "execution_count": 11,
     "metadata": {},
     "output_type": "execute_result"
    }
   ],
   "source": [
    "# Accumulate doesn't return an array, it returns an iterable (like a stored pattern)\n",
    "accumulate([1,2,3,4,5])"
   ]
  },
  {
   "cell_type": "code",
   "execution_count": 12,
   "id": "4c1c4444",
   "metadata": {},
   "outputs": [
    {
     "data": {
      "text/plain": [
       "[1, 3, 6, 10, 15]"
      ]
     },
     "execution_count": 12,
     "metadata": {},
     "output_type": "execute_result"
    }
   ],
   "source": [
    "# We can fully express this pattern using a function that can take an iterable as an argument, like list()\n",
    "list(accumulate([1,2,3,4,5]))"
   ]
  },
  {
   "cell_type": "markdown",
   "id": "222fb4e3",
   "metadata": {},
   "source": [
    "Like modules, we can give aliases to the specific pieces we import:\n",
    "\n",
    "> `from somemodule import somefunction as some_func`\n",
    "\n",
    "> `from anothermodule import anotherfunction as another_func, yetanotherfunction as yaf`\n",
    "\n",
    "Later...\n",
    "\n",
    "> `some_func()`\n",
    "\n",
    "> `another_func()`\n",
    "\n",
    "> `yaf()`"
   ]
  },
  {
   "cell_type": "markdown",
   "id": "60c297e6",
   "metadata": {},
   "source": [
    "### Importing Your Own Code\n",
    "\n",
    "When importing your own code, reference the name of the file without the .py extension.\n",
    "\n",
    "In order to import from another file, that file's name (everything before the .py file extension) must be a valid python identifier, that is, you could use it as a variable name."
   ]
  },
  {
   "cell_type": "code",
   "execution_count": 13,
   "id": "24cf4679",
   "metadata": {},
   "outputs": [],
   "source": [
    "# In VSCode we created the sample_module.py file. This file contains its own imports, functions, and variables\n",
    "import sample_module"
   ]
  },
  {
   "cell_type": "code",
   "execution_count": 14,
   "id": "dac9fe13",
   "metadata": {},
   "outputs": [],
   "source": [
    "# We used a function from our module in this notebook. \n",
    "# This can also help to keep this notebook looking \"cleaner\" by storing long code blocks in our module\n",
    "num = sample_module.add_two(2)"
   ]
  },
  {
   "cell_type": "code",
   "execution_count": 15,
   "id": "0d881ccc",
   "metadata": {},
   "outputs": [
    {
     "data": {
      "text/plain": [
       "4"
      ]
     },
     "execution_count": 15,
     "metadata": {},
     "output_type": "execute_result"
    }
   ],
   "source": [
    "num"
   ]
  },
  {
   "cell_type": "code",
   "execution_count": 16,
   "id": "45119ebd",
   "metadata": {},
   "outputs": [],
   "source": [
    "# If we update our module, we will need to restart the kernel or the changes will not be reflected in our import\n",
    "# Simply rerunning the import sample_module line in our code will not suffice. The kernel must be restarted.\n",
    "new_num = sample_module.subtract_two(num)"
   ]
  },
  {
   "cell_type": "code",
   "execution_count": 17,
   "id": "0287636b",
   "metadata": {},
   "outputs": [
    {
     "data": {
      "text/plain": [
       "2"
      ]
     },
     "execution_count": 17,
     "metadata": {},
     "output_type": "execute_result"
    }
   ],
   "source": [
    "new_num"
   ]
  },
  {
   "cell_type": "code",
   "execution_count": 18,
   "id": "68fc5895",
   "metadata": {},
   "outputs": [],
   "source": [
    "# We can import a specific function from our own module\n",
    "from sample_module import double_the_root as dtr"
   ]
  },
  {
   "cell_type": "code",
   "execution_count": 19,
   "id": "20b37a91",
   "metadata": {},
   "outputs": [],
   "source": [
    "x = dtr(16)"
   ]
  },
  {
   "cell_type": "code",
   "execution_count": 20,
   "id": "4b193be5",
   "metadata": {},
   "outputs": [
    {
     "data": {
      "text/plain": [
       "8.0"
      ]
     },
     "execution_count": 20,
     "metadata": {},
     "output_type": "execute_result"
    }
   ],
   "source": [
    "x"
   ]
  },
  {
   "cell_type": "code",
   "execution_count": 21,
   "id": "2e606e77",
   "metadata": {},
   "outputs": [
    {
     "name": "stdout",
     "output_type": "stream",
     "text": [
      "Codeup\n"
     ]
    }
   ],
   "source": [
    "# We can call upon variables stored in our module by using a prefix\n",
    "print(sample_module.bootcamp_name)"
   ]
  },
  {
   "cell_type": "code",
   "execution_count": 22,
   "id": "f96b4c66",
   "metadata": {},
   "outputs": [],
   "source": [
    "# We can also call upon variables without the need for a prefix if we call it specifically, and we can alias it\n",
    "from sample_module import super_secret_password_never_share_this_ever as pwd"
   ]
  },
  {
   "cell_type": "code",
   "execution_count": 23,
   "id": "3ca29396",
   "metadata": {},
   "outputs": [],
   "source": [
    "# Here we use a variable, and anyone viewing our code does not know what our underlying password is\n",
    "x = pwd.upper()"
   ]
  },
  {
   "cell_type": "code",
   "execution_count": 24,
   "id": "3de0b135",
   "metadata": {},
   "outputs": [
    {
     "ename": "ModuleNotFoundError",
     "evalue": "No module named 'env'",
     "output_type": "error",
     "traceback": [
      "\u001b[0;31m---------------------------------------------------------------------------\u001b[0m",
      "\u001b[0;31mModuleNotFoundError\u001b[0m                       Traceback (most recent call last)",
      "\u001b[0;32m<ipython-input-24-d584019f2772>\u001b[0m in \u001b[0;36m<module>\u001b[0;34m\u001b[0m\n\u001b[1;32m      1\u001b[0m \u001b[0;31m# We often store passwords or other sensitive credentials in an env.py file\u001b[0m\u001b[0;34m\u001b[0m\u001b[0;34m\u001b[0m\u001b[0;34m\u001b[0m\u001b[0m\n\u001b[0;32m----> 2\u001b[0;31m \u001b[0;32mfrom\u001b[0m \u001b[0menv\u001b[0m \u001b[0;32mimport\u001b[0m \u001b[0mpassword\u001b[0m \u001b[0;32mas\u001b[0m \u001b[0mpwd\u001b[0m\u001b[0;34m\u001b[0m\u001b[0;34m\u001b[0m\u001b[0m\n\u001b[0m",
      "\u001b[0;31mModuleNotFoundError\u001b[0m: No module named 'env'"
     ]
    }
   ],
   "source": [
    "# We often store passwords or other sensitive credentials in an env.py file\n",
    "# If that file is listed in our .gitignore, then we wont accidentally push our credentials to github\n",
    "# This is the farthest someone will get using our code without our env.py file\n",
    "from env import password as pwd"
   ]
  },
  {
   "cell_type": "code",
   "execution_count": 25,
   "id": "e87be1b8",
   "metadata": {},
   "outputs": [],
   "source": [
    "import sample_module2 as sm2"
   ]
  },
  {
   "cell_type": "code",
   "execution_count": 26,
   "id": "9faac642",
   "metadata": {},
   "outputs": [
    {
     "data": {
      "text/plain": [
       "'CodeupCodeup'"
      ]
     },
     "execution_count": 26,
     "metadata": {},
     "output_type": "execute_result"
    }
   ],
   "source": [
    "sm2.bootcamp_name"
   ]
  },
  {
   "cell_type": "code",
   "execution_count": 27,
   "id": "0b0e5cac",
   "metadata": {},
   "outputs": [],
   "source": [
    "import sample_module as sm"
   ]
  },
  {
   "cell_type": "code",
   "execution_count": 28,
   "id": "33c612a6",
   "metadata": {},
   "outputs": [
    {
     "data": {
      "text/plain": [
       "'Codeup'"
      ]
     },
     "execution_count": 28,
     "metadata": {},
     "output_type": "execute_result"
    }
   ],
   "source": [
    "sm.bootcamp_name"
   ]
  },
  {
   "cell_type": "markdown",
   "id": "33260fe7",
   "metadata": {},
   "source": [
    "In the above, sample_module2 was a module that imported sample_module and made use of the variables of sample_module. Both modules have variables with the same name, but using prefixes of the module name/alias can identify which variable we are using."
   ]
  },
  {
   "cell_type": "code",
   "execution_count": 29,
   "id": "f39d43aa",
   "metadata": {},
   "outputs": [],
   "source": [
    "# If we use the same alias more than once, the last use of that alias will be what is stored in our current python instance\n",
    "from sample_module import bootcamp_name as bn\n",
    "from sample_module2 import bootcamp_name as bn"
   ]
  },
  {
   "cell_type": "code",
   "execution_count": 30,
   "id": "f6dddcd2",
   "metadata": {},
   "outputs": [
    {
     "data": {
      "text/plain": [
       "'CodeupCodeup'"
      ]
     },
     "execution_count": 30,
     "metadata": {},
     "output_type": "execute_result"
    }
   ],
   "source": [
    "bn"
   ]
  },
  {
   "cell_type": "markdown",
   "id": "16c16b9c",
   "metadata": {},
   "source": [
    "## Running a module as a script vs. importing\n",
    "\n",
    "When a module is imported, every line of code will be run, including lines that produce output or change variables. If we want to use a module as both a script and as a resource for imports, then we can \"hide\" code that we don't want to run when importing by using:"
   ]
  },
  {
   "cell_type": "code",
   "execution_count": null,
   "id": "92281b34",
   "metadata": {},
   "outputs": [],
   "source": [
    "if __name__ == '__main__':\n",
    "    main()"
   ]
  }
 ],
 "metadata": {
  "kernelspec": {
   "display_name": "Python 3",
   "language": "python",
   "name": "python3"
  },
  "language_info": {
   "codemirror_mode": {
    "name": "ipython",
    "version": 3
   },
   "file_extension": ".py",
   "mimetype": "text/x-python",
   "name": "python",
   "nbconvert_exporter": "python",
   "pygments_lexer": "ipython3",
   "version": "3.8.8"
  }
 },
 "nbformat": 4,
 "nbformat_minor": 5
}
