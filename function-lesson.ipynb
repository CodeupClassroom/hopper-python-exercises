{
 "cells": [
  {
   "cell_type": "markdown",
   "id": "ff1d2802",
   "metadata": {},
   "source": [
    "# Fun with Functions\n",
    "![]()"
   ]
  },
  {
   "cell_type": "markdown",
   "id": "2e09f53b",
   "metadata": {},
   "source": [
    "## Each function creates its own scope. \n",
    "\n",
    "That means that variables defined inside the function body and the argument are only available inside the function"
   ]
  },
  {
   "cell_type": "code",
   "execution_count": 1,
   "id": "45399368",
   "metadata": {},
   "outputs": [
    {
     "data": {
      "text/plain": [
       "5"
      ]
     },
     "execution_count": 1,
     "metadata": {},
     "output_type": "execute_result"
    }
   ],
   "source": [
    "x = 5\n",
    "x"
   ]
  },
  {
   "cell_type": "code",
   "execution_count": 2,
   "id": "2a906c72",
   "metadata": {},
   "outputs": [],
   "source": [
    "def add_one(x):\n",
    "    \"\"\"This function adds 1 to any input. String inputs produce an error\"\"\"\n",
    "    result = x + 1\n",
    "    return result"
   ]
  },
  {
   "cell_type": "code",
   "execution_count": 3,
   "id": "2aab8922",
   "metadata": {},
   "outputs": [
    {
     "data": {
      "text/plain": [
       "11"
      ]
     },
     "execution_count": 3,
     "metadata": {},
     "output_type": "execute_result"
    }
   ],
   "source": [
    "add_one(10)"
   ]
  },
  {
   "cell_type": "code",
   "execution_count": 4,
   "id": "bfd5a526",
   "metadata": {},
   "outputs": [
    {
     "data": {
      "text/plain": [
       "5"
      ]
     },
     "execution_count": 4,
     "metadata": {},
     "output_type": "execute_result"
    }
   ],
   "source": [
    "x"
   ]
  },
  {
   "cell_type": "code",
   "execution_count": 5,
   "id": "99e7a489",
   "metadata": {},
   "outputs": [
    {
     "ename": "NameError",
     "evalue": "name 'result' is not defined",
     "output_type": "error",
     "traceback": [
      "\u001b[0;31m---------------------------------------------------------------------------\u001b[0m",
      "\u001b[0;31mNameError\u001b[0m                                 Traceback (most recent call last)",
      "\u001b[0;32m<ipython-input-5-0ac921c19f1a>\u001b[0m in \u001b[0;36m<module>\u001b[0;34m\u001b[0m\n\u001b[0;32m----> 1\u001b[0;31m \u001b[0mresult\u001b[0m\u001b[0;34m\u001b[0m\u001b[0;34m\u001b[0m\u001b[0m\n\u001b[0m",
      "\u001b[0;31mNameError\u001b[0m: name 'result' is not defined"
     ]
    }
   ],
   "source": [
    "result"
   ]
  },
  {
   "cell_type": "markdown",
   "id": "d26e91a4",
   "metadata": {},
   "source": [
    "## Example of a function that operates on a global variable"
   ]
  },
  {
   "cell_type": "code",
   "execution_count": null,
   "id": "83d294ba",
   "metadata": {},
   "outputs": [],
   "source": [
    "x = 5"
   ]
  },
  {
   "cell_type": "code",
   "execution_count": null,
   "id": "3e98538c",
   "metadata": {},
   "outputs": [],
   "source": [
    "def global_increment():\n",
    "    global x # on its own line to say \"x is global\" for the rest of the function\n",
    "    x = x + 1\n",
    "    print(x)"
   ]
  },
  {
   "cell_type": "code",
   "execution_count": null,
   "id": "f285d8b1",
   "metadata": {},
   "outputs": [],
   "source": [
    "global_increment()"
   ]
  },
  {
   "cell_type": "code",
   "execution_count": null,
   "id": "2f7a84d4",
   "metadata": {},
   "outputs": [],
   "source": [
    "global_increment()"
   ]
  },
  {
   "cell_type": "code",
   "execution_count": null,
   "id": "0ae36817",
   "metadata": {},
   "outputs": [],
   "source": [
    "global_increment()"
   ]
  },
  {
   "cell_type": "markdown",
   "id": "676f5407",
   "metadata": {},
   "source": [
    "## What's the big deal with using `return`?"
   ]
  },
  {
   "cell_type": "code",
   "execution_count": null,
   "id": "f9f52398",
   "metadata": {},
   "outputs": [],
   "source": [
    "def increment(x):\n",
    "    result = x + 1\n",
    "    print(result)"
   ]
  },
  {
   "cell_type": "code",
   "execution_count": null,
   "id": "405cf5d8",
   "metadata": {},
   "outputs": [],
   "source": [
    "increment(11)"
   ]
  },
  {
   "cell_type": "code",
   "execution_count": null,
   "id": "9f8c098c",
   "metadata": {},
   "outputs": [],
   "source": [
    "result = increment(11)"
   ]
  },
  {
   "cell_type": "code",
   "execution_count": null,
   "id": "7274f86c",
   "metadata": {},
   "outputs": [],
   "source": [
    "result"
   ]
  },
  {
   "cell_type": "code",
   "execution_count": null,
   "id": "1e042673",
   "metadata": {},
   "outputs": [],
   "source": [
    "type(result)"
   ]
  },
  {
   "cell_type": "code",
   "execution_count": null,
   "id": "aed6b242",
   "metadata": {},
   "outputs": [],
   "source": [
    "increment(increment(1))"
   ]
  },
  {
   "cell_type": "code",
   "execution_count": null,
   "id": "04d23d26",
   "metadata": {},
   "outputs": [],
   "source": [
    "x = print(\"Stuff\")\n",
    "type(x)"
   ]
  },
  {
   "cell_type": "code",
   "execution_count": null,
   "id": "135f7818",
   "metadata": {},
   "outputs": [],
   "source": [
    "beatles = [\"John\", \"Paul\", \"George\"]\n",
    "x = beatles.append(\"Ringo\")"
   ]
  },
  {
   "cell_type": "code",
   "execution_count": null,
   "id": "e66f0114",
   "metadata": {},
   "outputs": [],
   "source": [
    "type(x)"
   ]
  },
  {
   "cell_type": "code",
   "execution_count": null,
   "id": "66f91edc",
   "metadata": {},
   "outputs": [],
   "source": [
    "beatles"
   ]
  },
  {
   "cell_type": "markdown",
   "id": "dbc7c2ec",
   "metadata": {},
   "source": [
    "## Example of using a global variable w/o the global keyword\n",
    "- We'll probably see more of this in the course\n",
    "- You may have a variable outside of function(s) you want your function(s) to see"
   ]
  },
  {
   "cell_type": "code",
   "execution_count": null,
   "id": "47110a87",
   "metadata": {},
   "outputs": [],
   "source": [
    "my_name = \"Ryan\"\n",
    "\n",
    "def print_name():\n",
    "    print(f\"My name is {my_name}\")"
   ]
  },
  {
   "cell_type": "code",
   "execution_count": null,
   "id": "12962613",
   "metadata": {},
   "outputs": [],
   "source": [
    "print_name()"
   ]
  },
  {
   "cell_type": "markdown",
   "id": "fbfc9620",
   "metadata": {},
   "source": [
    "## Multiple Arguments"
   ]
  },
  {
   "cell_type": "code",
   "execution_count": null,
   "id": "8a4749c0",
   "metadata": {},
   "outputs": [],
   "source": [
    "def add(x, y):\n",
    "    \"\"\"Adds x and y together\"\"\"\n",
    "    return x + y\n",
    "\n",
    "add(2, 3)"
   ]
  },
  {
   "cell_type": "markdown",
   "id": "cfd6bb50",
   "metadata": {},
   "source": [
    "## Default arguments and keyword arguments"
   ]
  },
  {
   "cell_type": "code",
   "execution_count": null,
   "id": "376634bd",
   "metadata": {},
   "outputs": [],
   "source": [
    "def greet(salutation=\"Hello\", recipient=\"World\"):\n",
    "    return f\"{salutation}, {recipient}!\" "
   ]
  },
  {
   "cell_type": "code",
   "execution_count": null,
   "id": "50180f85",
   "metadata": {},
   "outputs": [],
   "source": [
    "greet()"
   ]
  },
  {
   "cell_type": "code",
   "execution_count": null,
   "id": "fcb3a7d2",
   "metadata": {},
   "outputs": [],
   "source": [
    "greet(salutation=\"Howdy\")"
   ]
  },
  {
   "cell_type": "code",
   "execution_count": null,
   "id": "1a147c91",
   "metadata": {},
   "outputs": [],
   "source": [
    "greet(recipient=\"Everybody\")"
   ]
  },
  {
   "cell_type": "code",
   "execution_count": null,
   "id": "43cde2df",
   "metadata": {},
   "outputs": [],
   "source": [
    "greet(salutation=\"Yo\", recipient=\"Peeps\")"
   ]
  },
  {
   "cell_type": "code",
   "execution_count": null,
   "id": "379ed3fd",
   "metadata": {},
   "outputs": [],
   "source": [
    "greet(\"Yo\", \"Peeps\")"
   ]
  },
  {
   "cell_type": "code",
   "execution_count": null,
   "id": "91ced0f7",
   "metadata": {},
   "outputs": [],
   "source": [
    "greet(recipient=\"Peeps\", salutation=\"Yo\")"
   ]
  },
  {
   "cell_type": "markdown",
   "id": "4cd856b8",
   "metadata": {},
   "source": [
    "## Let's Talk About Lambdas\n",
    "- A lambda is an anonymous function\n",
    "- Lambdas are super popular in math\n",
    "- Lambdas are helpful if you don't need to reuse a function (or have it named)\n",
    "- Lambdas are just functions\n",
    "- Lambdas in Python are the function body itself\n",
    "- Lambdas in Python are only one liners\n",
    "- The return is automatic/implicit"
   ]
  },
  {
   "cell_type": "code",
   "execution_count": null,
   "id": "9c91afb8",
   "metadata": {},
   "outputs": [],
   "source": [
    "add_two = lambda x: x + 2"
   ]
  },
  {
   "cell_type": "code",
   "execution_count": null,
   "id": "c5f2fa41",
   "metadata": {},
   "outputs": [],
   "source": [
    "add_two(3)"
   ]
  },
  {
   "cell_type": "code",
   "execution_count": null,
   "id": "1a3a4ad0",
   "metadata": {},
   "outputs": [],
   "source": [
    "add_two"
   ]
  },
  {
   "cell_type": "code",
   "execution_count": null,
   "id": "8bbdb64b",
   "metadata": {},
   "outputs": [],
   "source": [
    "add_one"
   ]
  },
  {
   "cell_type": "markdown",
   "id": "8d4acd84",
   "metadata": {},
   "source": [
    "## But where are lambdas actually useful instead of alternate syntax?"
   ]
  },
  {
   "cell_type": "code",
   "execution_count": null,
   "id": "a8c551b7",
   "metadata": {},
   "outputs": [],
   "source": [
    "beatles.sort()\n",
    "beatles"
   ]
  },
  {
   "cell_type": "code",
   "execution_count": null,
   "id": "3f7f1334",
   "metadata": {},
   "outputs": [],
   "source": [
    "boats = [\n",
    "    {\n",
    "        \"type\": \"tugboat\",\n",
    "        \"price\": 100_000\n",
    "    },\n",
    "    {\n",
    "        \"type\": \"dreadnaught\",\n",
    "        \"price\": 500_000\n",
    "    },\n",
    "    {\n",
    "        \"type\": \"origami paper boat\",\n",
    "        \"price\": 0.005        \n",
    "    }\n",
    "]"
   ]
  },
  {
   "cell_type": "code",
   "execution_count": null,
   "id": "ed729ca3",
   "metadata": {},
   "outputs": [],
   "source": [
    "# Second argument is optional\n",
    "# this works with min and max\n",
    "# key = lambda object[\"key\"]\n",
    "sorted(boats, key = lambda x: x[\"price\"])"
   ]
  },
  {
   "cell_type": "code",
   "execution_count": null,
   "id": "10b06d55",
   "metadata": {},
   "outputs": [],
   "source": [
    "min(boats, key=lambda x:x[\"type\"])"
   ]
  },
  {
   "cell_type": "code",
   "execution_count": null,
   "id": "60953ad2",
   "metadata": {},
   "outputs": [],
   "source": [
    "def sort_by_price(x):\n",
    "    return x[\"price\"]"
   ]
  },
  {
   "cell_type": "code",
   "execution_count": null,
   "id": "e6627249",
   "metadata": {},
   "outputs": [],
   "source": [
    "max(boats, key=sort_by_price)"
   ]
  },
  {
   "cell_type": "code",
   "execution_count": null,
   "id": "8a22a6eb",
   "metadata": {},
   "outputs": [],
   "source": [
    "min(boats, key=sort_by_price)"
   ]
  },
  {
   "cell_type": "code",
   "execution_count": null,
   "id": "82f9eaa1",
   "metadata": {},
   "outputs": [],
   "source": []
  }
 ],
 "metadata": {
  "kernelspec": {
   "display_name": "Python 3",
   "language": "python",
   "name": "python3"
  },
  "language_info": {
   "codemirror_mode": {
    "name": "ipython",
    "version": 3
   },
   "file_extension": ".py",
   "mimetype": "text/x-python",
   "name": "python",
   "nbconvert_exporter": "python",
   "pygments_lexer": "ipython3",
   "version": "3.8.8"
  }
 },
 "nbformat": 4,
 "nbformat_minor": 5
}
