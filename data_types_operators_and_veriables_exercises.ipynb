{
 "cells": [
  {
   "cell_type": "markdown",
   "id": "bored-institute",
   "metadata": {},
   "source": [
    "# Data Types, Operators, and Variables"
   ]
  },
  {
   "cell_type": "markdown",
   "id": "young-tobacco",
   "metadata": {},
   "source": [
    "1) Create a Python script file named data_types_and_variables.py. <br>\n",
    "2) Inside it, write some Python code, that is, variables and operators, to describe the following scenarios. <br>\n",
    "3) Do not worry about the real operations to get the values, the goal of these exercises is to understand how real world conditions can be represented with code."
   ]
  },
  {
   "cell_type": "markdown",
   "id": "welcome-joshua",
   "metadata": {},
   "source": [
    "You have rented some movies for your kids: The little mermaid (for 3 days), Brother Bear (for 5 days, they love it), and Hercules (1 day, you don't know yet if they're going to like it). If price for a movie per day is 3 dollars, how much will you have to pay?"
   ]
  },
  {
   "cell_type": "code",
   "execution_count": 2,
   "id": "computational-payment",
   "metadata": {},
   "outputs": [
    {
     "data": {
      "text/plain": [
       "28"
      ]
     },
     "execution_count": 2,
     "metadata": {},
     "output_type": "execute_result"
    }
   ],
   "source": [
    "# capture numbers as variables\n",
    "little_mermaid_rental_days = 3\n",
    "brother_bear_rental_days = 3\n",
    "hercules_rental_days = 1\n",
    "\n",
    "movie_cost_per_day = 4\n",
    "\n",
    "# make calculations using variables\n",
    "total_rental_days = little_mermaid_rental_days + brother_bear_rental_days + hercules_rental_days\n",
    "\n",
    "total_spent = total_rental_days * movie_cost_per_day\n",
    "\n",
    "total_spent"
   ]
  },
  {
   "cell_type": "markdown",
   "id": "personalized-castle",
   "metadata": {},
   "source": [
    "Suppose you're working as a contractor for 3 companies: Google, Amazon and Facebook, they pay you a different rate per hour. Google pays 400 dollars per hour, Amazon 380, and Facebook 350. How much will you receive in payment for this week? You worked 10 hours for Facebook, 6 hours for Google and 4 hours for Amazon."
   ]
  },
  {
   "cell_type": "code",
   "execution_count": 4,
   "id": "flying-forwarding",
   "metadata": {},
   "outputs": [
    {
     "data": {
      "text/plain": [
       "6530"
      ]
     },
     "execution_count": 4,
     "metadata": {},
     "output_type": "execute_result"
    }
   ],
   "source": [
    "# capture numbers as variables\n",
    "hourly_rate_google = 400\n",
    "hourly_rate_amazon = 380\n",
    "hourly_rate_facebook = 350\n",
    "\n",
    "hours_worked_google = 8\n",
    "hours_worked_amazon = 6\n",
    "hours_worked_facebook = 3\n",
    "\n",
    "# make calculations using variables\n",
    "total_pay_google = hourly_rate_google * hours_worked_google\n",
    "total_pay_amazon = hourly_rate_amazon * hours_worked_amazon\n",
    "total_pay_facebook = hourly_rate_facebook * hours_worked_facebook\n",
    "\n",
    "total_pay = total_pay_google + total_pay_amazon + total_pay_facebook\n",
    "\n",
    "total_pay"
   ]
  },
  {
   "cell_type": "markdown",
   "id": "classical-currency",
   "metadata": {},
   "source": [
    "A student can be enrolled to a class only if the class is not full and the class schedule does not conflict with her current schedule."
   ]
  },
  {
   "cell_type": "code",
   "execution_count": 6,
   "id": "desperate-department",
   "metadata": {},
   "outputs": [
    {
     "data": {
      "text/plain": [
       "False"
      ]
     },
     "execution_count": 6,
     "metadata": {},
     "output_type": "execute_result"
    }
   ],
   "source": [
    "# capture booleans as variables\n",
    "class_is_full = True\n",
    "schedule_conflict = False\n",
    "\n",
    "# make calculations using variables\n",
    "student_can_enroll = (not class_is_full) and (not schedule_conflict)\n",
    "\n",
    "student_can_enroll"
   ]
  },
  {
   "cell_type": "markdown",
   "id": "brazilian-presence",
   "metadata": {},
   "source": [
    "A product offer can be applied only if people buy more than 2 items, and the offer has not expired. Premium members do not need to buy a specific amount of products."
   ]
  },
  {
   "cell_type": "code",
   "execution_count": 9,
   "id": "major-diagram",
   "metadata": {},
   "outputs": [
    {
     "data": {
      "text/plain": [
       "False"
      ]
     },
     "execution_count": 9,
     "metadata": {},
     "output_type": "execute_result"
    }
   ],
   "source": [
    "# capture booleans and numbers as variables\n",
    "offer_has_expired = True\n",
    "premium_member = False\n",
    "number_of_items_bought = 3\n",
    "items_needed_for_offer = 2\n",
    "\n",
    "# make calculations using variables\n",
    "offer_can_be_applied = (not offer_has_expired) and (premium_member or (number_of_items_bought > items_needed_for_offer))\n",
    "\n",
    "offer_can_be_applied"
   ]
  },
  {
   "cell_type": "markdown",
   "id": "surface-bibliography",
   "metadata": {},
   "source": [
    "Use the following code to follow the instructions below:"
   ]
  },
  {
   "cell_type": "code",
   "execution_count": 11,
   "id": "descending-stations",
   "metadata": {},
   "outputs": [],
   "source": [
    "username = 'codeup'\n",
    "password = 'notastrongpassword'"
   ]
  },
  {
   "cell_type": "markdown",
   "id": "novel-canada",
   "metadata": {},
   "source": [
    "Create a variable that holds a boolean value for each of the following conditions:\n",
    "\n",
    "1) the password must be at least 5 characters <br>\n",
    "2) the username must be no more than 20 characters <br>\n",
    "3) the password must not be the same as the username <br>\n",
    "4) neither the username or password can start or end with whitespace <br>"
   ]
  },
  {
   "cell_type": "code",
   "execution_count": 12,
   "id": "emerging-orbit",
   "metadata": {},
   "outputs": [
    {
     "data": {
      "text/plain": [
       "True"
      ]
     },
     "execution_count": 12,
     "metadata": {},
     "output_type": "execute_result"
    }
   ],
   "source": [
    "five_or_more_char = len(password) >= 5\n",
    "five_or_more_char"
   ]
  },
  {
   "cell_type": "code",
   "execution_count": 14,
   "id": "auburn-healing",
   "metadata": {},
   "outputs": [
    {
     "data": {
      "text/plain": [
       "True"
      ]
     },
     "execution_count": 14,
     "metadata": {},
     "output_type": "execute_result"
    }
   ],
   "source": [
    "twenty_or_less_char = len(username) <= 20\n",
    "twenty_or_less_char"
   ]
  },
  {
   "cell_type": "code",
   "execution_count": 15,
   "id": "present-farming",
   "metadata": {},
   "outputs": [
    {
     "data": {
      "text/plain": [
       "True"
      ]
     },
     "execution_count": 15,
     "metadata": {},
     "output_type": "execute_result"
    }
   ],
   "source": [
    "not_the_same = password != username\n",
    "not_the_same"
   ]
  },
  {
   "cell_type": "code",
   "execution_count": 18,
   "id": "proper-franklin",
   "metadata": {},
   "outputs": [
    {
     "data": {
      "text/plain": [
       "True"
      ]
     },
     "execution_count": 18,
     "metadata": {},
     "output_type": "execute_result"
    }
   ],
   "source": [
    "username = 'codeup'\n",
    "password = 'notastrongpassword'\n",
    "\n",
    "# check for leading and trailing white space in each word\n",
    "leading_white_space_password = password[0] in ' '\n",
    "trailing_white_space_password = password[-1] in ' '\n",
    "\n",
    "leading_white_space_username = username[0] in ' '\n",
    "trailing_white_space_username = username[-1] in ' '\n",
    "\n",
    "# combines checks for each word\n",
    "leading_or_trailing_white_space_password = leading_white_space_password or trailing_white_space_password\n",
    "leading_or_trailing_white_space_username = leading_white_space_username or trailing_white_space_username\n",
    "\n",
    "#combines checks for both words\n",
    "leading_or_trailing_white_space = leading_or_trailing_white_space_password or leading_or_trailing_white_space_username\n",
    "\n",
    "# changing variable to match language of prompt\n",
    "no_leading_or_trailing_white_spaces = not leading_or_trailing_white_space\n",
    "\n",
    "no_leading_or_trailing_white_spaces"
   ]
  }
 ],
 "metadata": {
  "kernelspec": {
   "display_name": "Python 3",
   "language": "python",
   "name": "python3"
  },
  "language_info": {
   "codemirror_mode": {
    "name": "ipython",
    "version": 3
   },
   "file_extension": ".py",
   "mimetype": "text/x-python",
   "name": "python",
   "nbconvert_exporter": "python",
   "pygments_lexer": "ipython3",
   "version": "3.7.4"
  }
 },
 "nbformat": 4,
 "nbformat_minor": 5
}
