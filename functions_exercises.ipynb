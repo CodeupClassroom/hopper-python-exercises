{
 "cells": [
  {
   "cell_type": "markdown",
   "id": "preliminary-found",
   "metadata": {},
   "source": [
    "# Functions"
   ]
  },
  {
   "cell_type": "markdown",
   "id": "charged-andrews",
   "metadata": {},
   "source": [
    "**Create a file named function_exercises.py for this exercise. After creating each function specified below, write the necessary code in order to test your function.**"
   ]
  },
  {
   "cell_type": "markdown",
   "id": "backed-fossil",
   "metadata": {},
   "source": [
    "**1) Define a function named is_two. It should accept one input and return True if the passed input is either the number or the string 2, False otherwise.**"
   ]
  },
  {
   "cell_type": "code",
   "execution_count": 1,
   "id": "advisory-float",
   "metadata": {},
   "outputs": [
    {
     "data": {
      "text/plain": [
       "False"
      ]
     },
     "execution_count": 1,
     "metadata": {},
     "output_type": "execute_result"
    }
   ],
   "source": [
    "ver = 89\n",
    "\n",
    "ver in [2,'2']"
   ]
  },
  {
   "cell_type": "code",
   "execution_count": 2,
   "id": "hundred-korea",
   "metadata": {},
   "outputs": [],
   "source": [
    "def is_two(ver):\n",
    "    \n",
    "    return ver in [2,'2']"
   ]
  },
  {
   "cell_type": "code",
   "execution_count": 3,
   "id": "periodic-montgomery",
   "metadata": {},
   "outputs": [
    {
     "data": {
      "text/plain": [
       "False"
      ]
     },
     "execution_count": 3,
     "metadata": {},
     "output_type": "execute_result"
    }
   ],
   "source": [
    "is_two('89')"
   ]
  },
  {
   "cell_type": "markdown",
   "id": "golden-aruba",
   "metadata": {},
   "source": [
    "**2) Define a function named is_vowel. It should return True if the passed string is a vowel, False otherwise.**"
   ]
  },
  {
   "cell_type": "code",
   "execution_count": 4,
   "id": "delayed-month",
   "metadata": {},
   "outputs": [],
   "source": [
    "def is_vowel(string):\n",
    "    ''' return if input item is the number two or the string two'''\n",
    "    \n",
    "    return string.lower() in ['a','e','i','o', 'u']"
   ]
  },
  {
   "cell_type": "code",
   "execution_count": 5,
   "id": "bridal-alexandria",
   "metadata": {},
   "outputs": [
    {
     "data": {
      "text/plain": [
       "False"
      ]
     },
     "execution_count": 5,
     "metadata": {},
     "output_type": "execute_result"
    }
   ],
   "source": [
    "is_vowel('au')"
   ]
  },
  {
   "cell_type": "markdown",
   "id": "bronze-print",
   "metadata": {},
   "source": [
    "**3) Define a function named is_consonant. It should return True if the passed string is a consonant, False otherwise. Use your is_vowel function to accomplish this.**"
   ]
  },
  {
   "cell_type": "code",
   "execution_count": 6,
   "id": "standard-surge",
   "metadata": {},
   "outputs": [],
   "source": [
    "def is_consonant(string):\n",
    "    ''' return if input string is a consonant.'''\n",
    "    \n",
    "    return not is_vowel(string)"
   ]
  },
  {
   "cell_type": "code",
   "execution_count": 7,
   "id": "dirty-ribbon",
   "metadata": {},
   "outputs": [
    {
     "data": {
      "text/plain": [
       "False"
      ]
     },
     "execution_count": 7,
     "metadata": {},
     "output_type": "execute_result"
    }
   ],
   "source": [
    "is_consonant('u')"
   ]
  },
  {
   "cell_type": "markdown",
   "id": "medical-eight",
   "metadata": {},
   "source": [
    "**4) Define a function that accepts a string that is a word. The function should capitalize the first letter of the word if the word starts with a consonant.**"
   ]
  },
  {
   "cell_type": "code",
   "execution_count": 8,
   "id": "considered-repeat",
   "metadata": {},
   "outputs": [],
   "source": [
    "def capitalize_consonant(string):\n",
    "    ''' return input string capitalized if the first letter is a consonant\n",
    "        otherwise return input string                                     '''\n",
    "    \n",
    "    if is_consonant(string[0]) == True:\n",
    "        \n",
    "        string = string.capitalize()\n",
    "        \n",
    "    return string"
   ]
  },
  {
   "cell_type": "code",
   "execution_count": 9,
   "id": "beginning-transparency",
   "metadata": {},
   "outputs": [
    {
     "data": {
      "text/plain": [
       "'and'"
      ]
     },
     "execution_count": 9,
     "metadata": {},
     "output_type": "execute_result"
    }
   ],
   "source": [
    "capitalize_consonant('and')"
   ]
  },
  {
   "cell_type": "markdown",
   "id": "continuing-jefferson",
   "metadata": {},
   "source": [
    "**5) Define a function named calculate_tip. It should accept a tip percentage (a number between 0 and 1) and the bill total, and return the amount to tip.**"
   ]
  },
  {
   "cell_type": "code",
   "execution_count": 10,
   "id": "uniform-startup",
   "metadata": {},
   "outputs": [],
   "source": [
    "def calculate_tip(tip_percentage, total_bill):\n",
    "    ''' takes in tip percentage and total bill and returns the amount of the tip'''\n",
    "    \n",
    "    return total_bill * (tip_percentage/100)"
   ]
  },
  {
   "cell_type": "code",
   "execution_count": 11,
   "id": "similar-disposal",
   "metadata": {},
   "outputs": [
    {
     "data": {
      "text/plain": [
       "10.0"
      ]
     },
     "execution_count": 11,
     "metadata": {},
     "output_type": "execute_result"
    }
   ],
   "source": [
    "calculate_tip(10, 100)"
   ]
  },
  {
   "cell_type": "markdown",
   "id": "aging-asian",
   "metadata": {},
   "source": [
    "**6) Define a function named apply_discount. It should accept a original price, and a discount percentage, and return the price after the discount is applied.**"
   ]
  },
  {
   "cell_type": "code",
   "execution_count": 12,
   "id": "experienced-advantage",
   "metadata": {},
   "outputs": [],
   "source": [
    "def apply_discount(discount_percentage, original_price):\n",
    "    ''' takes in discount percentage and original price and returns the price after applying the discount'''\n",
    "    \n",
    "    return original_price - (original_price * (discount_percentage/100))"
   ]
  },
  {
   "cell_type": "code",
   "execution_count": 13,
   "id": "verified-murray",
   "metadata": {},
   "outputs": [
    {
     "data": {
      "text/plain": [
       "90.0"
      ]
     },
     "execution_count": 13,
     "metadata": {},
     "output_type": "execute_result"
    }
   ],
   "source": [
    "apply_discount(10, 100)"
   ]
  },
  {
   "cell_type": "markdown",
   "id": "serious-introduction",
   "metadata": {},
   "source": [
    "**7) Define a function named handle_commas. It should accept a string that is a number that contains commas in it as input, and return a number as output.**"
   ]
  },
  {
   "cell_type": "code",
   "execution_count": 14,
   "id": "educational-darkness",
   "metadata": {},
   "outputs": [],
   "source": [
    "def handle_commas(string):\n",
    "    ''' Takes in string with numbers and commas returns a number corresponding to the string  with the commas removed'''\n",
    "    \n",
    "    # set number as an empty string\n",
    "    number = ''\n",
    "    \n",
    "    # itterate through each character in the string\n",
    "    for char in string:\n",
    "        \n",
    "        # if the character is not a comma add it to the end of number\n",
    "        if char not in ',':\n",
    "            \n",
    "            number += char\n",
    "            \n",
    "    # return number cast as an intiger        \n",
    "    return int(number)"
   ]
  },
  {
   "cell_type": "code",
   "execution_count": 15,
   "id": "temporal-notebook",
   "metadata": {},
   "outputs": [
    {
     "data": {
      "text/plain": [
       "245"
      ]
     },
     "execution_count": 15,
     "metadata": {},
     "output_type": "execute_result"
    }
   ],
   "source": [
    "handle_commas(',,,2,4,,,5,,,,,')"
   ]
  },
  {
   "cell_type": "markdown",
   "id": "corrected-processor",
   "metadata": {},
   "source": [
    "**8) Define a function named get_letter_grade. It should accept a number and return the letter grade associated with that number (A-F).**"
   ]
  },
  {
   "cell_type": "code",
   "execution_count": 16,
   "id": "greek-train",
   "metadata": {},
   "outputs": [],
   "source": [
    "def get_letter_grade(number):\n",
    "    ''' takes in a number returns corresponding letter grade'''\n",
    "    \n",
    "    if number >= 90:\n",
    "        \n",
    "        return 'A'\n",
    "    \n",
    "    elif number >= 80:\n",
    "        \n",
    "        return 'B'\n",
    "    \n",
    "    elif number >= 70:\n",
    "        \n",
    "        return 'C'\n",
    "    \n",
    "    else:\n",
    "        \n",
    "        return 'F'"
   ]
  },
  {
   "cell_type": "code",
   "execution_count": 17,
   "id": "metropolitan-bennett",
   "metadata": {},
   "outputs": [
    {
     "data": {
      "text/plain": [
       "'A'"
      ]
     },
     "execution_count": 17,
     "metadata": {},
     "output_type": "execute_result"
    }
   ],
   "source": [
    "get_letter_grade(91)"
   ]
  },
  {
   "cell_type": "markdown",
   "id": "ambient-termination",
   "metadata": {},
   "source": [
    "**9) Define a function named remove_vowels that accepts a string and returns a string with all the vowels removed.**"
   ]
  },
  {
   "cell_type": "code",
   "execution_count": 18,
   "id": "instrumental-investment",
   "metadata": {},
   "outputs": [],
   "source": [
    "def remove_vowels(string):\n",
    "    '''takes in a string returns string with vowels removed.'''\n",
    "    \n",
    "    # set new string to empty string\n",
    "    new_string = ''\n",
    "    \n",
    "    # itterate through characters in string\n",
    "    for char in string:\n",
    "        \n",
    "        # if the lowercase of that character is not a vowel\n",
    "        if char.lower() not in 'aeiou':\n",
    "            \n",
    "            # add that character to the end of new_string\n",
    "            new_string += char\n",
    "            \n",
    "    return new_string"
   ]
  },
  {
   "cell_type": "code",
   "execution_count": 19,
   "id": "functioning-coach",
   "metadata": {},
   "outputs": [
    {
     "data": {
      "text/plain": [
       "'stff'"
      ]
     },
     "execution_count": 19,
     "metadata": {},
     "output_type": "execute_result"
    }
   ],
   "source": [
    "remove_vowels('AEIOUstuff')"
   ]
  },
  {
   "cell_type": "markdown",
   "id": "progressive-glucose",
   "metadata": {},
   "source": [
    "**10) Define a function named normalize_name. It should accept a string and return a valid python identifier, that is:**\n",
    "\n",
    "**A) Anything that is not a valid python identifier should be removed** <br>\n",
    "**Aa) No key words** <br>\n",
    "**Ab) No leading numbers** <br>\n",
    "**Ac) No special symbles** <br>\n",
    "**B) Leading and trailing whitespace should be removed** <br>\n",
    "**C) Everything should be lowercase** <br>\n",
    "**D) Spaces should be replaced with underscores** <br>"
   ]
  },
  {
   "cell_type": "code",
   "execution_count": 20,
   "id": "english-borough",
   "metadata": {},
   "outputs": [],
   "source": [
    "import keyword\n",
    "\n",
    "def check_beginning_and_end(string):\n",
    "    ''' ensures input username begins and ends with a valid character'''\n",
    "    \n",
    "    # while the first character in the string is not an alphabet character delete that character and check again\n",
    "    while string[0].isalpha() == False:\n",
    "        \n",
    "        string = string[1:]\n",
    "        \n",
    "    # while the last character in the string is not an alphabet numeric character delete that character and check again\n",
    "    while string[-1].isalnum() == False:\n",
    "    \n",
    "        string = string[:-1]\n",
    "        \n",
    "    return string\n",
    "\n",
    "def handle_special_characters(string):\n",
    "    ''' remove special characters from string and swap out spaces for underscores'''\n",
    "    \n",
    "    # set new_string to \n",
    "    new_string = ''\n",
    "    \n",
    "    # itterate through string \n",
    "    for char in string:\n",
    "    \n",
    "        # if character is alfanumeric \n",
    "        if char.isalnum() == True:\n",
    "        \n",
    "            # add character to the end of new_string\n",
    "            new_string += char\n",
    "        \n",
    "        # if character is space or underscore \n",
    "        elif char in ' _':\n",
    "        \n",
    "            # add underscore to the end of new string\n",
    "            new_string += '_'\n",
    "            \n",
    "    return new_string\n",
    "\n",
    "def is_keyword(string):\n",
    "    ''' return True or False if string is a keyword'''\n",
    "\n",
    "    # check if result is a keyword\n",
    "    if string in keyword.kwlist:\n",
    "        \n",
    "        return True\n",
    "    \n",
    "    else:\n",
    "    \n",
    "        return False\n",
    "    \n",
    "def normalize_name(string):\n",
    "    '''transform input string into a valid python identifier.\n",
    "       if result is a python keyword return try again message instead'''\n",
    "    \n",
    "    # delete non-valid characters at the beginning and end on the string\n",
    "    string = check_beginning_and_end(string)\n",
    "    \n",
    "    # replace space characters with underscores with remove special characters\n",
    "    string = handle_special_characters(string)\n",
    "    \n",
    "    # return lowercase user name if not a keyword \n",
    "    if not is_keyword(string):\n",
    "        \n",
    "        return string.lower()\n",
    "    \n",
    "    else:\n",
    "        \n",
    "        print(\"Result is a python key word. Please try again\")\n",
    "        return normalize_name(input())"
   ]
  },
  {
   "cell_type": "code",
   "execution_count": 21,
   "id": "joined-fusion",
   "metadata": {},
   "outputs": [],
   "source": [
    "string = \"1 2 3 $()&^$( T#%^H#%^i%^s%^ i%^&S %&(*(a 1 v$%&AlI#%^d p#%^YTh#%^on id#%^%&en$%&TI#$^%%$&^*Fi@$%^*(er  #^#^#@)\""
   ]
  },
  {
   "cell_type": "code",
   "execution_count": 22,
   "id": "checked-disco",
   "metadata": {},
   "outputs": [
    {
     "data": {
      "text/plain": [
       "'T#%^H#%^i%^s%^ i%^&S %&(*(a 1 v$%&AlI#%^d p#%^YTh#%^on id#%^%&en$%&TI#$^%%$&^*Fi@$%^*(er'"
      ]
     },
     "execution_count": 22,
     "metadata": {},
     "output_type": "execute_result"
    }
   ],
   "source": [
    "string = check_beginning_and_end(string)\n",
    "string"
   ]
  },
  {
   "cell_type": "code",
   "execution_count": 23,
   "id": "outside-guarantee",
   "metadata": {},
   "outputs": [
    {
     "data": {
      "text/plain": [
       "'THis_iS_a_1_vAlId_pYThon_idenTIFier'"
      ]
     },
     "execution_count": 23,
     "metadata": {},
     "output_type": "execute_result"
    }
   ],
   "source": [
    "string = handle_special_characters(string)\n",
    "string"
   ]
  },
  {
   "cell_type": "code",
   "execution_count": 24,
   "id": "popular-coordination",
   "metadata": {},
   "outputs": [
    {
     "data": {
      "text/plain": [
       "False"
      ]
     },
     "execution_count": 24,
     "metadata": {},
     "output_type": "execute_result"
    }
   ],
   "source": [
    "string = is_keyword(string)\n",
    "string"
   ]
  },
  {
   "cell_type": "code",
   "execution_count": 25,
   "id": "designing-savings",
   "metadata": {},
   "outputs": [
    {
     "data": {
      "text/plain": [
       "'this_is_a_valid_python_identifier'"
      ]
     },
     "execution_count": 25,
     "metadata": {},
     "output_type": "execute_result"
    }
   ],
   "source": [
    "normalize_name(\"1 2 3 $()&^$( T#%^H#%^i%^s%^ i%^&S %&(*(a v$%&AlI#%^d p#%^YTh#%^on id#%^%&en$%&TI#$^%%$&^*Fi@$%^*(er  #^#^#@)\")"
   ]
  },
  {
   "cell_type": "code",
   "execution_count": 27,
   "id": "announced-reach",
   "metadata": {},
   "outputs": [
    {
     "name": "stdout",
     "output_type": "stream",
     "text": [
      "Result is a python key word. Please try again\n",
      "'ygfiyf'\n"
     ]
    },
    {
     "data": {
      "text/plain": [
       "'ygfiyf'"
      ]
     },
     "execution_count": 27,
     "metadata": {},
     "output_type": "execute_result"
    }
   ],
   "source": [
    "normalize_name('for')"
   ]
  },
  {
   "cell_type": "markdown",
   "id": "inclusive-vitamin",
   "metadata": {},
   "source": [
    "**11) Write a function named cumulative_sum that accepts a list of numbers and returns a list that is the cumulative sum of the numbers in the list.**"
   ]
  },
  {
   "cell_type": "code",
   "execution_count": null,
   "id": "assigned-christmas",
   "metadata": {},
   "outputs": [],
   "source": [
    "def cumulative_sum(input_list):\n",
    "    ''' takes in a list and returns a list that is the cumulative sum of the numbers in the list'''\n",
    "    \n",
    "    # create empty list\n",
    "    sum_list = []\n",
    "\n",
    "    # set total equal to zero\n",
    "    total = 0\n",
    "\n",
    "    # itterate through numbers\n",
    "    for num in input_list:\n",
    "    \n",
    "        # add each number to the total\n",
    "        total += num\n",
    "    \n",
    "        # append the total to the sum_list\n",
    "        sum_list.append(total)\n",
    "        \n",
    "    return sum_list"
   ]
  },
  {
   "cell_type": "code",
   "execution_count": null,
   "id": "mediterranean-motivation",
   "metadata": {},
   "outputs": [],
   "source": [
    "input_list = [1,2,3,4,5]\n",
    "\n",
    "cumulative_sum(input_list)"
   ]
  }
 ],
 "metadata": {
  "kernelspec": {
   "display_name": "Python 3",
   "language": "python",
   "name": "python3"
  },
  "language_info": {
   "codemirror_mode": {
    "name": "ipython",
    "version": 3
   },
   "file_extension": ".py",
   "mimetype": "text/x-python",
   "name": "python",
   "nbconvert_exporter": "python",
   "pygments_lexer": "ipython3",
   "version": "3.7.4"
  }
 },
 "nbformat": 4,
 "nbformat_minor": 5
}
