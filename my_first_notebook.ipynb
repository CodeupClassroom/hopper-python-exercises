{
 "cells": [
  {
   "cell_type": "markdown",
   "id": "5aedbf19",
   "metadata": {},
   "source": [
    "# My First Jupyter Notebook\n",
    "\n",
    "## What?\n",
    "Jupyter notebooks are composed of cells. Cells can be code or markdown. Together, this means we can write GREAT documentation while we're coding. \n",
    "\n",
    "## So what?\n",
    "1. Python visualizations render in place in our notebooks\n",
    "2. Notebooks allow us to write directions/documentation in markdown/html\n",
    "3. Code runs through `ipython`, which means we have cool tools from ipython available in our notebooks\n",
    "\n",
    "## Now what?\n",
    "- Change directories to your project directory\n",
    "- Run `jupyter notebook` and the service starts\n",
    "- This means you'll need a couple of terminal tabs open\n",
    "- Now, you can run Python code in a notebook"
   ]
  },
  {
   "cell_type": "code",
   "execution_count": 1,
   "id": "b48c95e5",
   "metadata": {},
   "outputs": [
    {
     "name": "stdout",
     "output_type": "stream",
     "text": [
      "Hi, Everybody!\n"
     ]
    }
   ],
   "source": [
    "greeting = \"Hi, Everybody!\"\n",
    "print(greeting)"
   ]
  },
  {
   "cell_type": "code",
   "execution_count": 2,
   "id": "ce5836f8",
   "metadata": {},
   "outputs": [
    {
     "name": "stdout",
     "output_type": "stream",
     "text": [
      "Hi, Dr. Nick!\n",
      "Hi, Everybody!\n"
     ]
    }
   ],
   "source": [
    "response = \"Hi, Dr. Nick!\"\n",
    "print(response)\n",
    "print(greeting)"
   ]
  },
  {
   "cell_type": "code",
   "execution_count": 3,
   "id": "23c64514",
   "metadata": {},
   "outputs": [
    {
     "name": "stdout",
     "output_type": "stream",
     "text": [
      "hello.py                          python_introduction_exercises.py\r\n",
      "my_first_notebook.ipynb\r\n"
     ]
    }
   ],
   "source": [
    "ls"
   ]
  },
  {
   "cell_type": "code",
   "execution_count": 4,
   "id": "1932a641",
   "metadata": {},
   "outputs": [
    {
     "data": {
      "text/plain": [
       "'Hi, Everybody!'"
      ]
     },
     "execution_count": 4,
     "metadata": {},
     "output_type": "execute_result"
    }
   ],
   "source": [
    "greeting"
   ]
  },
  {
   "cell_type": "code",
   "execution_count": null,
   "id": "8218778a",
   "metadata": {},
   "outputs": [],
   "source": []
  }
 ],
 "metadata": {
  "kernelspec": {
   "display_name": "Python 3",
   "language": "python",
   "name": "python3"
  },
  "language_info": {
   "codemirror_mode": {
    "name": "ipython",
    "version": 3
   },
   "file_extension": ".py",
   "mimetype": "text/x-python",
   "name": "python",
   "nbconvert_exporter": "python",
   "pygments_lexer": "ipython3",
   "version": "3.8.8"
  }
 },
 "nbformat": 4,
 "nbformat_minor": 5
}
