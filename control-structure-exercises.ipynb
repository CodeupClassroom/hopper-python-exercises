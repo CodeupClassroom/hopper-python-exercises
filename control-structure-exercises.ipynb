{
 "cells": [
  {
   "cell_type": "markdown",
   "metadata": {},
   "source": [
    "1. a)\n",
    "prompt the user for a day of the week, print out whether the day is Monday or not"
   ]
  },
  {
   "cell_type": "code",
   "execution_count": null,
   "metadata": {},
   "outputs": [],
   "source": [
    "day = input('Please enter the day of the week: ')\n",
    "\n",
    "if day.lower() in ['monday', 'mon']:\n",
    "    print('Today is Monday')\n",
    "else:\n",
    "    print(f'Today is {day.capitalize()}')"
   ]
  },
  {
   "cell_type": "markdown",
   "metadata": {},
   "source": [
    "b). prompt the user for a day of the week, print out whether the day is a weekday or a weekend"
   ]
  },
  {
   "cell_type": "code",
   "execution_count": null,
   "metadata": {},
   "outputs": [],
   "source": [
    "day = input('Please enter the day of the week: ')\n",
    "\n",
    "while day.lower() not in ['sunday', 'monday', 'tuesday', 'wednesday', 'thursday', 'friday', 'saturday']:\n",
    "    print('Invalid input. Please enter the full name of the day')\n",
    "    day = input('Please enter the day of the week: ')\n",
    "\n",
    "\n",
    "if day.lower() in ['sunday', 'saturday']:\n",
    "    print('Today is a weekend')\n",
    "else:\n",
    "    print('Today is a weekday')"
   ]
  },
  {
   "cell_type": "markdown",
   "metadata": {},
   "source": [
    "1 (c) create variables and make up values for\n",
    "\n",
    "the number of hours worked in one week  \n",
    "the hourly rate  \n",
    "how much the week's paycheck will be  \n",
    "write the python code that calculates the weekly paycheck. You get paid time and a half if you work more than 40 hours"
   ]
  },
  {
   "cell_type": "code",
   "execution_count": null,
   "metadata": {},
   "outputs": [],
   "source": [
    "hours_worked = 45\n",
    "hourly_rate = 50\n",
    "overtime_rate = hourly_rate * 1.5\n",
    "\n",
    "if hours_worked <=40:\n",
    "    total_pay = hours_worked * hourly_rate\n",
    "    \n",
    "else:\n",
    "    regular_pay = 40 * hourly_rate\n",
    "    overtime_pay = (hours_worked - 40) * overtime_rate\n",
    "    total_pay = regular_pay + overtime_pay\n",
    "\n",
    "total_pay"
   ]
  },
  {
   "cell_type": "markdown",
   "metadata": {},
   "source": [
    "2 a) While\n",
    "\n",
    "Create an integer variable i with a value of 5.  \n",
    "Create a while loop that runs so long as i is less than or equal to 15  \n",
    "Each loop iteration, output the current value of i, then increment i by one.  "
   ]
  },
  {
   "cell_type": "code",
   "execution_count": null,
   "metadata": {},
   "outputs": [],
   "source": [
    "i = 5\n",
    "\n",
    "while i <= 15:\n",
    "    print(i)\n",
    "    i = i + 1"
   ]
  },
  {
   "cell_type": "markdown",
   "metadata": {},
   "source": [
    "2 (b) Create a while loop that will count by 2's starting with 0 and ending at 100. Follow each number with a new line."
   ]
  },
  {
   "cell_type": "code",
   "execution_count": null,
   "metadata": {},
   "outputs": [],
   "source": [
    "i = 0\n",
    "\n",
    "while i <= 100:\n",
    "    print(i)\n",
    "    i = i + 2"
   ]
  },
  {
   "cell_type": "markdown",
   "metadata": {},
   "source": [
    "Alter your loop to count backwards by 5's from 100 to -10."
   ]
  },
  {
   "cell_type": "code",
   "execution_count": null,
   "metadata": {},
   "outputs": [],
   "source": [
    "i = 100\n",
    "\n",
    "while i >= -10:\n",
    "    print(i)\n",
    "    i = i - 5"
   ]
  },
  {
   "cell_type": "markdown",
   "metadata": {},
   "source": [
    "Create a while loop that starts at 2, and displays the number squared on each line while the number is less than 1,000,000. Output should equal:"
   ]
  },
  {
   "cell_type": "code",
   "execution_count": null,
   "metadata": {},
   "outputs": [],
   "source": [
    "i = 2\n",
    "\n",
    "while i < 1_000_000:\n",
    "    print(i)\n",
    "    i = i * i"
   ]
  },
  {
   "cell_type": "code",
   "execution_count": null,
   "metadata": {},
   "outputs": [],
   "source": [
    "i = 100\n",
    "\n",
    "while i >= 5:\n",
    "    print(i)\n",
    "    i = i - 5"
   ]
  },
  {
   "cell_type": "markdown",
   "metadata": {},
   "source": [
    "b 1. Write some code that prompts the user for a number, then shows a multiplication table up through 10 for that number."
   ]
  },
  {
   "cell_type": "code",
   "execution_count": null,
   "metadata": {},
   "outputs": [],
   "source": [
    "num = input('Please enter a positive integer: ')\n",
    "\n",
    "num = int(num)\n",
    "\n",
    "for i in range(1, 11):\n",
    "    print(f'{num} * {i} = {num * i}')"
   ]
  },
  {
   "cell_type": "markdown",
   "metadata": {},
   "source": [
    "b2)"
   ]
  },
  {
   "cell_type": "code",
   "execution_count": null,
   "metadata": {},
   "outputs": [],
   "source": [
    "for i in range(1, 10):\n",
    "    print(str(i) * i )"
   ]
  },
  {
   "cell_type": "markdown",
   "metadata": {},
   "source": [
    "2 (c) Prompt the user for an odd number between 1 and 50. Use a loop and a break statement to continue prompting the user if they enter invalid input. (Hint: use the isdigit method on strings to determine this). Use a loop and the continue statement to output all the odd numbers between 1 and 50, except for the number the user entered."
   ]
  },
  {
   "cell_type": "code",
   "execution_count": null,
   "metadata": {},
   "outputs": [],
   "source": [
    "num = input('Please enter a odd number between 1 and 50: ')\n",
    "\n",
    "\n",
    "# isdigit= False\n",
    "# > 50\n",
    "# <=0\n",
    "# num % 2 == 0\n",
    "\n",
    "while True:\n",
    "    if (num.isdigit() ==  False\n",
    "       or int(num) > 50\n",
    "       or int(num) <=0\n",
    "       or int(num) % 2 == 0):\n",
    "        print('Invalid Input')\n",
    "        num = input('Please enter a odd number between 1 and 50: ')\n",
    "    else:\n",
    "        break\n",
    "\n",
    "num = int(num)\n",
    "print(' The number to skip is ', num)\n",
    "\n",
    "for i in range(1, 50):\n",
    "    if i % 2 == 0:\n",
    "        continue\n",
    "    elif i == num:\n",
    "        print('Yikes, skipping this number', i)\n",
    "    else:\n",
    "        print('Here is an odd number', i)\n"
   ]
  },
  {
   "cell_type": "markdown",
   "metadata": {},
   "source": [
    "2(d) The input function can be used to prompt for input and use that input in your python code. Prompt the user to enter a positive number and write a loop that counts from 0 to that number. (Hints: first make sure that the value the user entered is a valid number, also note that the input function returns a string, so you'll need to convert this to a numeric type.)"
   ]
  },
  {
   "cell_type": "code",
   "execution_count": null,
   "metadata": {},
   "outputs": [],
   "source": [
    "num = input('Please input a positive integer: ')\n",
    "\n",
    "\n",
    "while True:\n",
    "    if (num.isdigit() ==  False\n",
    "       or int(num) < 0):\n",
    "        print('Invalid Input')\n",
    "        num = input('Please enter a positive integer: ')\n",
    "    else:\n",
    "        break\n",
    "\n",
    "        \n",
    "for i in range(0, int(num) + 1):\n",
    "    print(i)"
   ]
  },
  {
   "cell_type": "code",
   "execution_count": null,
   "metadata": {},
   "outputs": [],
   "source": []
  },
  {
   "cell_type": "markdown",
   "metadata": {},
   "source": [
    "Write a program that prompts the user for a positive integer. Next write a loop that prints out the numbers from the number the user entered down to 1."
   ]
  },
  {
   "cell_type": "code",
   "execution_count": null,
   "metadata": {},
   "outputs": [],
   "source": [
    "num = input('Please input a positive integer: ')\n",
    "\n",
    "\n",
    "while True:\n",
    "    if (num.isdigit() ==  False\n",
    "       or int(num) < 0):\n",
    "        print('Invalid Input')\n",
    "        num = input('Please enter a positive integer: ')\n",
    "    else:\n",
    "        break\n",
    "\n",
    "        \n",
    "for i in reversed(range(1, int(num) + 1)):\n",
    "    print(i)"
   ]
  },
  {
   "cell_type": "markdown",
   "metadata": {},
   "source": [
    "One of the most common interview questions for entry-level programmers is the FizzBuzz test. Developed by Imran Ghory, the test is designed to test basic looping and conditional logic skills.\n",
    "\n",
    "Write a program that prints the numbers from 1 to 100.\n",
    "For multiples of three print \"Fizz\" instead of the number\n",
    "For the multiples of five print \"Buzz\".\n",
    "For numbers which are multiples of both three and five print \"FizzBuzz\"."
   ]
  },
  {
   "cell_type": "code",
   "execution_count": null,
   "metadata": {},
   "outputs": [],
   "source": [
    "for i in range(1, 101):\n",
    "    if i % 3 == 0 and i % 5 == 0:\n",
    "        print('fizzbuzz')\n",
    "    elif i % 3 == 0:\n",
    "        print('fizz')\n",
    "    elif i % 5 == 0:\n",
    "        print('buzz')                   \n",
    "    else:\n",
    "        print(i)\n",
    "    "
   ]
  },
  {
   "cell_type": "markdown",
   "metadata": {},
   "source": [
    "Display a table of powers.\n",
    "\n",
    "Prompt the user to enter an integer.\n",
    "Display a table of squares and cubes from 1 to the value entered.\n",
    "Ask if the user wants to continue.\n",
    "Assume that the user will enter valid data.\n",
    "Only continue if the user agrees to."
   ]
  },
  {
   "cell_type": "code",
   "execution_count": 1,
   "metadata": {
    "scrolled": false
   },
   "outputs": [
    {
     "name": "stdout",
     "output_type": "stream",
     "text": [
      "Please enter an positive integer: 6\n",
      "Here is your table!\n",
      "number|squared|cubed\n",
      "------|-------|-----\n",
      "  1   |   1   |  1  \n",
      "  2   |   4   |  8  \n",
      "  3   |   9   | 27  \n",
      "  4   |  16   | 64  \n",
      "  5   |  25   | 125 \n",
      "  6   |  36   | 216 \n"
     ]
    }
   ],
   "source": [
    "num = input('Please enter an positive integer: ')\n",
    "\n",
    "print('Here is your table!')\n",
    "print('number|squared|cubed')\n",
    "print('------|-------|-----')\n",
    "\n",
    "num = int(num)\n",
    "for i in range(1, num + 1):\n",
    "#     print(f'  {i} |    {i ** 2}  |   {i ** 3}')\n",
    "    print('{:^6}|{:^7}|{:^5}'.format(i, i ** 2, i ** 3)) # mid aligned\n",
    "#     print('{:6}|{:7}|{:5}'.format(i, i ** 2, i ** 3)) # right aligned -default\n",
    "#     print('{:<6}|{:<7}|{:<5}'.format(i, i ** 2, i ** 3)) # left aligned"
   ]
  },
  {
   "cell_type": "markdown",
   "metadata": {},
   "source": [
    "5. Grades\n"
   ]
  },
  {
   "cell_type": "code",
   "execution_count": 9,
   "metadata": {},
   "outputs": [
    {
     "name": "stdout",
     "output_type": "stream",
     "text": [
      "Please enter the numeric grade: 77\n",
      "C\n",
      "Do you want to continue? Please enter yes or y to continue:y\n",
      "Please enter the numeric grade: 77\n",
      "C\n",
      "Do you want to continue? Please enter yes or y to continue:no\n"
     ]
    }
   ],
   "source": [
    "while True:\n",
    "    num = input('Please enter the numeric grade: ')\n",
    "    num = int(num)\n",
    "    if num >= 88:\n",
    "        print('A')\n",
    "    elif num >= 80:\n",
    "        print('B')\n",
    "    elif num >= 67:\n",
    "        print('C')\n",
    "    elif num >= 60:\n",
    "        print('D')\n",
    "    else:\n",
    "        print('F')\n",
    "        \n",
    "    choice = input('Do you want to continue? Please enter yes or y to continue:')\n",
    "    if choice.lower() in ['yes', 'y']:\n",
    "        continue\n",
    "    else:\n",
    "        break"
   ]
  },
  {
   "cell_type": "markdown",
   "metadata": {},
   "source": [
    "Create a list of dictionaries where each dictionary represents a book that you have read. Each dictionary in the list should have the keys title, author, and genre. Loop through the list and print out information about each book.\n",
    "\n",
    "Prompt the user to enter a genre, then loop through your books list and print out the titles of all the books in that genre."
   ]
  },
  {
   "cell_type": "code",
   "execution_count": 22,
   "metadata": {},
   "outputs": [
    {
     "data": {
      "text/plain": [
       "list"
      ]
     },
     "execution_count": 22,
     "metadata": {},
     "output_type": "execute_result"
    }
   ],
   "source": [
    "type([1,2,3,4])"
   ]
  },
  {
   "cell_type": "code",
   "execution_count": 10,
   "metadata": {},
   "outputs": [],
   "source": [
    "books = [\n",
    "    {\n",
    "        'title':'title1',\n",
    "        'author': 'author1',\n",
    "        'genre': 'genre1'\n",
    "    },\n",
    "    {\n",
    "        'title':'title2',\n",
    "        'author': 'author1',\n",
    "        'genre': 'genre2'\n",
    "    },\n",
    "    {\n",
    "        'title':'title3',\n",
    "        'author': 'author2',\n",
    "        'genre': 'genre2'\n",
    "    },\n",
    "    {\n",
    "        'title':'title4',\n",
    "        'author': 'author3',\n",
    "        'genre': 'genre2'\n",
    "    }\n",
    "]"
   ]
  },
  {
   "cell_type": "code",
   "execution_count": 23,
   "metadata": {},
   "outputs": [
    {
     "data": {
      "text/plain": [
       "{'title': 'title2', 'author': 'author1', 'genre': 'genre2'}"
      ]
     },
     "execution_count": 23,
     "metadata": {},
     "output_type": "execute_result"
    }
   ],
   "source": [
    "books[1]"
   ]
  },
  {
   "cell_type": "code",
   "execution_count": 15,
   "metadata": {},
   "outputs": [
    {
     "data": {
      "text/plain": [
       "'title4'"
      ]
     },
     "execution_count": 15,
     "metadata": {},
     "output_type": "execute_result"
    }
   ],
   "source": [
    "books[3]['title']"
   ]
  },
  {
   "cell_type": "code",
   "execution_count": 18,
   "metadata": {},
   "outputs": [
    {
     "name": "stdout",
     "output_type": "stream",
     "text": [
      " The book title1 by author author1 belongs to genre1\n",
      " The book title2 by author author1 belongs to genre2\n",
      " The book title3 by author author2 belongs to genre2\n",
      " The book title4 by author author3 belongs to genre2\n"
     ]
    }
   ],
   "source": [
    "for book in books:\n",
    "    print(f\" The book {book['title']} by author {book['author']} belongs to {book['genre']}\")"
   ]
  },
  {
   "cell_type": "code",
   "execution_count": 20,
   "metadata": {},
   "outputs": [
    {
     "name": "stdout",
     "output_type": "stream",
     "text": [
      "Please choose a genre: genre2\n",
      "title2\n",
      "title3\n",
      "title4\n"
     ]
    }
   ],
   "source": [
    "user_input = input('Please choose a genre: ')\n",
    "for book in books:\n",
    "    if user_input == book['genre']:\n",
    "        print(book['title'])"
   ]
  },
  {
   "cell_type": "markdown",
   "metadata": {},
   "source": [
    "How to 'zip' two lists together:"
   ]
  },
  {
   "cell_type": "code",
   "execution_count": 24,
   "metadata": {},
   "outputs": [],
   "source": [
    "# suppose we have two lists we want to zip together\n",
    "\n",
    "list_1 = [1,2,3]\n",
    "list_2 = ['a','b','c']"
   ]
  },
  {
   "cell_type": "code",
   "execution_count": 27,
   "metadata": {},
   "outputs": [
    {
     "data": {
      "text/plain": [
       "<zip at 0x7fbd112e2a00>"
      ]
     },
     "execution_count": 27,
     "metadata": {},
     "output_type": "execute_result"
    }
   ],
   "source": [
    "# zip function returns an iterator. \n",
    "zip(l, l2)"
   ]
  },
  {
   "cell_type": "code",
   "execution_count": 29,
   "metadata": {},
   "outputs": [
    {
     "name": "stdout",
     "output_type": "stream",
     "text": [
      "(1, 'a')\n",
      "(2, 'b')\n",
      "(3, 'c')\n"
     ]
    }
   ],
   "source": [
    "# we need to ieterate through the zip object to see inside:\n",
    "\n",
    "for i in zip(l,l2):\n",
    "    print(i)"
   ]
  },
  {
   "cell_type": "code",
   "execution_count": null,
   "metadata": {},
   "outputs": [],
   "source": []
  }
 ],
 "metadata": {
  "kernelspec": {
   "display_name": "Python 3",
   "language": "python",
   "name": "python3"
  },
  "language_info": {
   "codemirror_mode": {
    "name": "ipython",
    "version": 3
   },
   "file_extension": ".py",
   "mimetype": "text/x-python",
   "name": "python",
   "nbconvert_exporter": "python",
   "pygments_lexer": "ipython3",
   "version": "3.8.5"
  }
 },
 "nbformat": 4,
 "nbformat_minor": 4
}
