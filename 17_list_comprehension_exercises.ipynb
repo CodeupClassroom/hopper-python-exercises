{
 "cells": [
  {
   "cell_type": "markdown",
   "id": "biblical-chamber",
   "metadata": {},
   "source": [
    "# 17 list comprehension problems in python"
   ]
  },
  {
   "cell_type": "code",
   "execution_count": 2,
   "id": "bridal-accident",
   "metadata": {},
   "outputs": [],
   "source": [
    "fruits = ['mango', 'kiwi', 'strawberry', 'guava', 'pineapple', 'mandarin orange']\n",
    "\n",
    "numbers = [2, 3, 4, 5, 6, 7, 8, 9, 10, 11, 13, 17, 19, 23, 256, -8, -4, -2, 5, -9]"
   ]
  },
  {
   "cell_type": "code",
   "execution_count": 3,
   "id": "cross-anniversary",
   "metadata": {},
   "outputs": [
    {
     "data": {
      "text/plain": [
       "[3, 4, 5, 6, 7, 8, 9, 10, 11, 12, 14, 18, 20, 24, 257, -7, -3, -1, 6, -8]"
      ]
     },
     "execution_count": 3,
     "metadata": {},
     "output_type": "execute_result"
    }
   ],
   "source": [
    "# Example for loop solution to add 1 to each number in the list\n",
    "numbers_plus_one = []\n",
    "\n",
    "for number in numbers:\n",
    "    \n",
    "    numbers_plus_one.append(number + 1)\n",
    "    \n",
    "numbers_plus_one"
   ]
  },
  {
   "cell_type": "code",
   "execution_count": 7,
   "id": "imported-secretariat",
   "metadata": {},
   "outputs": [
    {
     "data": {
      "text/plain": [
       "[-7, -3, -1, -8]"
      ]
     },
     "execution_count": 7,
     "metadata": {},
     "output_type": "execute_result"
    }
   ],
   "source": [
    "# Example of using a list comprehension to create a list of the numbers plus one.\n",
    "numbers_plus_one = [number + 1 for number in numbers if number < 0]\n",
    "\n",
    "numbers_plus_one"
   ]
  },
  {
   "cell_type": "code",
   "execution_count": 6,
   "id": "celtic-barrel",
   "metadata": {},
   "outputs": [
    {
     "data": {
      "text/plain": [
       "[3, 4, 5, 6, 7, 8, 9, 10, 11, 12, 14, 18, 20, 24, 257, -7, -3, -1, 6, -8]"
      ]
     },
     "execution_count": 6,
     "metadata": {},
     "output_type": "execute_result"
    }
   ],
   "source": [
    "# Example of using a list comprehension to create a list of the numbers plus one.\n",
    "numbers_plus_one = [widgits + 1 for widgits in numbers ]\n",
    "\n",
    "numbers_plus_one"
   ]
  },
  {
   "cell_type": "code",
   "execution_count": 8,
   "id": "controlled-least",
   "metadata": {},
   "outputs": [
    {
     "data": {
      "text/plain": [
       "['MANGO', 'KIWI', 'STRAWBERRY', 'GUAVA', 'PINEAPPLE', 'MANDARIN ORANGE']"
      ]
     },
     "execution_count": 8,
     "metadata": {},
     "output_type": "execute_result"
    }
   ],
   "source": [
    "# Example code that creates a list of all of the list of strings in fruits and uppercases every string\n",
    "\n",
    "output = []\n",
    "\n",
    "for fruit in fruits:\n",
    "    \n",
    "    output.append(fruit.upper())\n",
    "    \n",
    "output"
   ]
  },
  {
   "cell_type": "markdown",
   "id": "liberal-timeline",
   "metadata": {},
   "source": [
    "**Exercise 1 - rewrite the above example code using list comprehension syntax. Make a variable named uppercased_fruits to hold the output of the list comprehension. Output should be ['MANGO', 'KIWI', etc...]**"
   ]
  },
  {
   "cell_type": "code",
   "execution_count": 9,
   "id": "inner-dutch",
   "metadata": {},
   "outputs": [
    {
     "data": {
      "text/plain": [
       "['MANGO', 'KIWI', 'STRAWBERRY', 'GUAVA', 'PINEAPPLE', 'MANDARIN ORANGE']"
      ]
     },
     "execution_count": 9,
     "metadata": {},
     "output_type": "execute_result"
    }
   ],
   "source": [
    "uppercased_fruits = [fruit.upper() for fruit in fruits]\n",
    "uppercased_fruits"
   ]
  },
  {
   "cell_type": "markdown",
   "id": "human-minister",
   "metadata": {},
   "source": [
    "**Exercise 2 - create a variable named capitalized_fruits and use list comprehension syntax to produce output like ['Mango', 'Kiwi', 'Strawberry', etc...]**"
   ]
  },
  {
   "cell_type": "code",
   "execution_count": 10,
   "id": "aboriginal-advisory",
   "metadata": {},
   "outputs": [
    {
     "data": {
      "text/plain": [
       "['Mango', 'Kiwi', 'Strawberry', 'Guava', 'Pineapple', 'Mandarin orange']"
      ]
     },
     "execution_count": 10,
     "metadata": {},
     "output_type": "execute_result"
    }
   ],
   "source": [
    "capitalized_fruits = [fruit.capitalize() for fruit in fruits]\n",
    "capitalized_fruits"
   ]
  },
  {
   "cell_type": "markdown",
   "id": "monetary-tobacco",
   "metadata": {},
   "source": [
    "**Exercise 3 - Use a list comprehension to make a variable named fruits_with_more_than_two_vowels. Hint: You'll need a way to check if something is a vowel.**"
   ]
  },
  {
   "cell_type": "code",
   "execution_count": 11,
   "id": "heard-maker",
   "metadata": {},
   "outputs": [
    {
     "data": {
      "text/plain": [
       "['guava', 'pineapple', 'mandarin orange']"
      ]
     },
     "execution_count": 11,
     "metadata": {},
     "output_type": "execute_result"
    }
   ],
   "source": [
    "fruits_with_more_than_two_vowels = [fruit for fruit in fruits if len([letter for letter in fruit if letter.lower() in 'aeiou']) > 2]\n",
    "\n",
    "fruits_with_more_than_two_vowels"
   ]
  },
  {
   "cell_type": "code",
   "execution_count": 12,
   "id": "pending-mississippi",
   "metadata": {},
   "outputs": [
    {
     "data": {
      "text/plain": [
       "['guava', 'pineapple', 'mandarin orange']"
      ]
     },
     "execution_count": 12,
     "metadata": {},
     "output_type": "execute_result"
    }
   ],
   "source": [
    "def has_two_vowels(fruit):\n",
    "    ''' Return True or False if the input fruit string has more than two vowels'''\n",
    "    \n",
    "    return len([letter for letter in fruit if letter.lower() in 'aeiou']) > 2\n",
    "\n",
    "# get list of fruits with more than two vowles\n",
    "fruits_with_more_than_two_vowels = [fruit for fruit in fruits if has_two_vowels(fruit) ==  True]\n",
    "\n",
    "fruits_with_more_than_two_vowels"
   ]
  },
  {
   "cell_type": "markdown",
   "id": "fossil-transaction",
   "metadata": {},
   "source": [
    "**Exercise 4 - make a variable named fruits_with_only_two_vowels. The result should be ['mango', 'kiwi', 'strawberry']**"
   ]
  },
  {
   "cell_type": "code",
   "execution_count": 13,
   "id": "practical-fusion",
   "metadata": {},
   "outputs": [
    {
     "data": {
      "text/plain": [
       "['mango', 'kiwi', 'strawberry']"
      ]
     },
     "execution_count": 13,
     "metadata": {},
     "output_type": "execute_result"
    }
   ],
   "source": [
    "fruits_with_only_two_vowels = [fruit for fruit in fruits if len([letter for letter in fruit if letter.lower() in 'aeiou']) == 2]\n",
    "\n",
    "fruits_with_only_two_vowels"
   ]
  },
  {
   "cell_type": "code",
   "execution_count": 14,
   "id": "oriental-remark",
   "metadata": {},
   "outputs": [
    {
     "data": {
      "text/plain": [
       "['mango', 'kiwi', 'strawberry']"
      ]
     },
     "execution_count": 14,
     "metadata": {},
     "output_type": "execute_result"
    }
   ],
   "source": [
    "def has_only_two_vowels(fruit):\n",
    "    ''' Return True or False if the input fruit string has more than two vowels'''\n",
    "    \n",
    "    return len([letter for letter in fruit if letter.lower() in 'aeiou']) == 2\n",
    "\n",
    "# get list of fruits with more than two vowles\n",
    "fruits_with_more_than_two_vowels = [fruit for fruit in fruits if has_only_two_vowels(fruit)]\n",
    "\n",
    "fruits_with_more_than_two_vowels"
   ]
  },
  {
   "cell_type": "markdown",
   "id": "liquid-thanksgiving",
   "metadata": {},
   "source": [
    "**Exercise 5 - make a list that contains each fruit with more than 5 characters**"
   ]
  },
  {
   "cell_type": "code",
   "execution_count": 15,
   "id": "official-paste",
   "metadata": {},
   "outputs": [
    {
     "data": {
      "text/plain": [
       "['strawberry', 'pineapple', 'mandarin orange']"
      ]
     },
     "execution_count": 15,
     "metadata": {},
     "output_type": "execute_result"
    }
   ],
   "source": [
    "[fruit for fruit in fruits if len(fruit) > 5]"
   ]
  },
  {
   "cell_type": "markdown",
   "id": "basic-timeline",
   "metadata": {},
   "source": [
    "**Exercise 6 - make a list that contains each fruit with exactly 5 characters**"
   ]
  },
  {
   "cell_type": "code",
   "execution_count": 16,
   "id": "quarterly-anniversary",
   "metadata": {},
   "outputs": [
    {
     "data": {
      "text/plain": [
       "['mango', 'guava']"
      ]
     },
     "execution_count": 16,
     "metadata": {},
     "output_type": "execute_result"
    }
   ],
   "source": [
    "[fruit for fruit in fruits if len(fruit) == 5]"
   ]
  },
  {
   "cell_type": "markdown",
   "id": "romantic-motorcycle",
   "metadata": {},
   "source": [
    "**Exercise 7 - Make a list that contains fruits that have less than 5 characters**"
   ]
  },
  {
   "cell_type": "code",
   "execution_count": 17,
   "id": "motivated-influence",
   "metadata": {},
   "outputs": [
    {
     "data": {
      "text/plain": [
       "['kiwi']"
      ]
     },
     "execution_count": 17,
     "metadata": {},
     "output_type": "execute_result"
    }
   ],
   "source": [
    "[fruit for fruit in fruits if len(fruit) < 5]"
   ]
  },
  {
   "cell_type": "markdown",
   "id": "earned-hungary",
   "metadata": {},
   "source": [
    "**Exercise 8 - Make a list containing the number of characters in each fruit. Output would be [5, 4, 10, etc... ]**"
   ]
  },
  {
   "cell_type": "code",
   "execution_count": 18,
   "id": "sized-chick",
   "metadata": {},
   "outputs": [
    {
     "data": {
      "text/plain": [
       "[5, 4, 10, 5, 9, 15]"
      ]
     },
     "execution_count": 18,
     "metadata": {},
     "output_type": "execute_result"
    }
   ],
   "source": [
    "[len(fruit) for fruit in fruits]"
   ]
  },
  {
   "cell_type": "markdown",
   "id": "common-brother",
   "metadata": {},
   "source": [
    "**Exercise 9 - Make a variable named fruits_with_letter_a that contains a list of only the fruits that contain the letter \"a\"**"
   ]
  },
  {
   "cell_type": "code",
   "execution_count": 19,
   "id": "norman-retirement",
   "metadata": {},
   "outputs": [
    {
     "data": {
      "text/plain": [
       "['mango', 'strawberry', 'guava', 'pineapple', 'mandarin orange']"
      ]
     },
     "execution_count": 19,
     "metadata": {},
     "output_type": "execute_result"
    }
   ],
   "source": [
    "def contains_a(fruit):\n",
    "    '''Returns True or False if the input fruit string contains an a character'''\n",
    "    \n",
    "    return len([letter for letter in fruit if letter == 'a']) > 0\n",
    "\n",
    "\n",
    "fruits_with_letter_a = [fruit for fruit in fruits if contains_a(fruit)]\n",
    "\n",
    "fruits_with_letter_a"
   ]
  },
  {
   "cell_type": "markdown",
   "id": "collectible-offense",
   "metadata": {},
   "source": [
    "**Exercise 10 - Make a variable named even_numbers that holds only the even numbers**"
   ]
  },
  {
   "cell_type": "code",
   "execution_count": 20,
   "id": "annoying-celtic",
   "metadata": {},
   "outputs": [
    {
     "data": {
      "text/plain": [
       "[2, 4, 6, 8, 10, 256, -8, -4, -2]"
      ]
     },
     "execution_count": 20,
     "metadata": {},
     "output_type": "execute_result"
    }
   ],
   "source": [
    "even_numbers = [number for number in numbers if number % 2 == 0]\n",
    "even_numbers"
   ]
  },
  {
   "cell_type": "markdown",
   "id": "mobile-settle",
   "metadata": {},
   "source": [
    "**Exercise 11 - Make a variable named odd_numbers that holds only the odd numbers**"
   ]
  },
  {
   "cell_type": "code",
   "execution_count": 21,
   "id": "sudden-westminster",
   "metadata": {},
   "outputs": [
    {
     "data": {
      "text/plain": [
       "[3, 5, 7, 9, 11, 13, 17, 19, 23, 5, -9]"
      ]
     },
     "execution_count": 21,
     "metadata": {},
     "output_type": "execute_result"
    }
   ],
   "source": [
    "odd_numbers = [number for number in numbers if number % 2 != 0]\n",
    "    \n",
    "odd_numbers"
   ]
  },
  {
   "cell_type": "markdown",
   "id": "collectible-dispatch",
   "metadata": {},
   "source": [
    "**Exercise 12 - Make a variable named positive_numbers that holds only the positive numbers**"
   ]
  },
  {
   "cell_type": "code",
   "execution_count": 22,
   "id": "lesbian-instrument",
   "metadata": {},
   "outputs": [
    {
     "data": {
      "text/plain": [
       "[2, 3, 4, 5, 6, 7, 8, 9, 10, 11, 13, 17, 19, 23, 256, 5]"
      ]
     },
     "execution_count": 22,
     "metadata": {},
     "output_type": "execute_result"
    }
   ],
   "source": [
    "positive_numbers = [number for number in numbers if number > 0]\n",
    "\n",
    "positive_numbers"
   ]
  },
  {
   "cell_type": "markdown",
   "id": "pleased-bubble",
   "metadata": {},
   "source": [
    "**Exercise 13 - Make a variable named negative_numbers that holds only the negative numbers**"
   ]
  },
  {
   "cell_type": "code",
   "execution_count": 23,
   "id": "seasonal-navigation",
   "metadata": {},
   "outputs": [
    {
     "data": {
      "text/plain": [
       "[-8, -4, -2, -9]"
      ]
     },
     "execution_count": 23,
     "metadata": {},
     "output_type": "execute_result"
    }
   ],
   "source": [
    "negative_numbers = [number for number in numbers if number < 0]\n",
    "negative_numbers"
   ]
  },
  {
   "cell_type": "markdown",
   "id": "sunrise-dominant",
   "metadata": {},
   "source": [
    "**Exercise 14 - use a list comprehension w/ a conditional in order to produce a list of numbers with 2 or more numerals**"
   ]
  },
  {
   "cell_type": "code",
   "execution_count": 24,
   "id": "primary-presence",
   "metadata": {},
   "outputs": [
    {
     "data": {
      "text/plain": [
       "[10, 11, 13, 17, 19, 23, 256]"
      ]
     },
     "execution_count": 24,
     "metadata": {},
     "output_type": "execute_result"
    }
   ],
   "source": [
    "[number for number in numbers if len(str(abs(number))) >= 2]"
   ]
  },
  {
   "cell_type": "markdown",
   "id": "recorded-sound",
   "metadata": {},
   "source": [
    "**Exercise 15 - Make a variable named numbers_squared that contains the numbers list with each element squared. Output is [4, 9, 16, etc...]**"
   ]
  },
  {
   "cell_type": "code",
   "execution_count": 25,
   "id": "common-statement",
   "metadata": {},
   "outputs": [
    {
     "data": {
      "text/plain": [
       "[4,\n",
       " 9,\n",
       " 16,\n",
       " 25,\n",
       " 36,\n",
       " 49,\n",
       " 64,\n",
       " 81,\n",
       " 100,\n",
       " 121,\n",
       " 169,\n",
       " 289,\n",
       " 361,\n",
       " 529,\n",
       " 65536,\n",
       " 64,\n",
       " 16,\n",
       " 4,\n",
       " 25,\n",
       " 81]"
      ]
     },
     "execution_count": 25,
     "metadata": {},
     "output_type": "execute_result"
    }
   ],
   "source": [
    "numbers_squared = [number**2 for number in numbers] \n",
    "numbers_squared"
   ]
  },
  {
   "cell_type": "markdown",
   "id": "adjusted-admission",
   "metadata": {},
   "source": [
    "**Exercise 16 - Make a variable named odd_negative_numbers that contains only the numbers that are both odd and negative.**"
   ]
  },
  {
   "cell_type": "code",
   "execution_count": 26,
   "id": "broke-quest",
   "metadata": {},
   "outputs": [
    {
     "data": {
      "text/plain": [
       "[-9]"
      ]
     },
     "execution_count": 26,
     "metadata": {},
     "output_type": "execute_result"
    }
   ],
   "source": [
    "odd_negative_numbers = [number for number in numbers if (number % 2 != 0) and (number < 0)]\n",
    "odd_negative_numbers"
   ]
  },
  {
   "cell_type": "markdown",
   "id": "departmental-identifier",
   "metadata": {},
   "source": [
    "**Exercise 17 - Make a variable named numbers_plus_5. In it, return a list containing each number plus five.**"
   ]
  },
  {
   "cell_type": "code",
   "execution_count": 27,
   "id": "registered-receiver",
   "metadata": {},
   "outputs": [
    {
     "data": {
      "text/plain": [
       "[7, 8, 9, 10, 11, 12, 13, 14, 15, 16, 18, 22, 24, 28, 261, -3, 1, 3, 10, -4]"
      ]
     },
     "execution_count": 27,
     "metadata": {},
     "output_type": "execute_result"
    }
   ],
   "source": [
    "numbers_plus_5 = [number + 5 for number in numbers]\n",
    "numbers_plus_5"
   ]
  },
  {
   "cell_type": "markdown",
   "id": "sunset-graphic",
   "metadata": {},
   "source": [
    "**BONUS Make a variable named \"primes\" that is a list containing the prime numbers in the numbers list. *Hint* you may want to make or find a helper function that determines if a given number is prime or not.**"
   ]
  },
  {
   "cell_type": "code",
   "execution_count": 28,
   "id": "behind-albania",
   "metadata": {},
   "outputs": [
    {
     "data": {
      "text/plain": [
       "[2, 3, 5, 7, 11, 13, 17, 19, 23, 5]"
      ]
     },
     "execution_count": 28,
     "metadata": {},
     "output_type": "execute_result"
    }
   ],
   "source": [
    "def is_prime(number):\n",
    "    ''' Returns True or False if the input number is prime'''\n",
    "    \n",
    "    # if number is not positive return False else check for primeness \n",
    "    if number <= 0:\n",
    "        \n",
    "        return False\n",
    "    \n",
    "    else:\n",
    "        \n",
    "        # get numbers in range 2 through the input number-1\n",
    "        dividers = [r for r in range(2, number)]\n",
    "\n",
    "        # get a list of all numbers in dividers that divide the input number evenly, return if list length is greater than 0\n",
    "        return len([divider for divider in dividers if number % divider == 0]) == 0\n",
    "\n",
    "[number for number in numbers if is_prime(number)]"
   ]
  },
  {
   "cell_type": "code",
   "execution_count": null,
   "id": "mediterranean-analyst",
   "metadata": {},
   "outputs": [],
   "source": []
  }
 ],
 "metadata": {
  "kernelspec": {
   "display_name": "Python 3",
   "language": "python",
   "name": "python3"
  },
  "language_info": {
   "codemirror_mode": {
    "name": "ipython",
    "version": 3
   },
   "file_extension": ".py",
   "mimetype": "text/x-python",
   "name": "python",
   "nbconvert_exporter": "python",
   "pygments_lexer": "ipython3",
   "version": "3.7.4"
  }
 },
 "nbformat": 4,
 "nbformat_minor": 5
}
